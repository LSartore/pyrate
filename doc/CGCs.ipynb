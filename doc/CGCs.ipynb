{
 "cells": [
  {
   "cell_type": "markdown",
   "metadata": {},
   "source": [
    "# Using Clebsch-Gordan coefficients"
   ]
  },
  {
   "cell_type": "markdown",
   "metadata": {},
   "source": [
    "Writing a Lagrangian term using its mathematical expression with contracted indices may not be possible in some situtations. This will often be the case when working with large gauge groups (*i.e.* GUTs) or higher-dimensional representations of some common gauge groups (*e.g.* sextets under $SU(3)$).  \n",
    "\n",
    "The module **PyLie**, introduced in PyR@TE 2, was designed to handle various group theory related computations. One of its useful functionalities is to compute the Clebsch-Gordan coefficients for an arbitrary set of 2, 3, or 4 representations of a given Lie algebra. These coefficients contain information on the way to contract gauge multiplets in order to yield gauge invariant quantities.  \n",
    "\n",
    "Altough a lot of efforts were put in the improvement of the performances of this module in PyR@TE 3, the computation of gauge invariants may be in some cases quite time-consuming. Therefore, in the same spirit as in PyR@TE 2, a database was designed to store the results of these computations, allowing PyR@TE to access them at any later time without computing them again. A dedicated module was written to interact with PyLie and its database in a simple and intuitive way. The next section of this notebook exlpains how to interact with PyLie ; the CGCs themselves are discussed a bit later."
   ]
  },
  {
   "cell_type": "markdown",
   "metadata": {},
   "source": [
    "## Interacting with PyLie's database\n",
    "**Disclaimer**: PyLie's functions as well as available functions to interact with PyLie's database are still ongoing improvements and changes. This notebook will therefore be updated in the future."
   ]
  },
  {
   "cell_type": "markdown",
   "metadata": {},
   "source": [
    "First, let's get into PyLie's main directory (located in `/src/PyLie` from PyR@TE's directory) :"
   ]
  },
  {
   "cell_type": "code",
   "execution_count": null,
   "metadata": {},
   "outputs": [],
   "source": [
    "%cd .../PyR@TE_3/src/PyLie"
   ]
  },
  {
   "cell_type": "markdown",
   "metadata": {},
   "source": [
    "Let's import the PyLieDB class and load the database (DB) with the `.load()` function. When we are done working with the DB, we must systematically close it using the `.close()` method."
   ]
  },
  {
   "cell_type": "code",
   "execution_count": 2,
   "metadata": {},
   "outputs": [],
   "source": [
    "from PyLieDB import PyLieDB\n",
    "\n",
    "# Create an instance of the Database object\n",
    "db = PyLieDB()\n",
    "\n",
    "# Make sure it is closed first\n",
    "db.close()\n",
    "\n",
    "# Load it\n",
    "db.load()"
   ]
  },
  {
   "cell_type": "markdown",
   "metadata": {},
   "source": [
    "The content of the DB can be printed at any time calling `db.visit()`, or, equivalently, `print(db)`. The argument `shorter=True` can be provided if we do not want to display the whole content of the contained matrices and tensors."
   ]
  },
  {
   "cell_type": "code",
   "execution_count": 3,
   "metadata": {
    "scrolled": true
   },
   "outputs": [
    {
     "name": "stdout",
     "output_type": "stream",
     "text": [
      "Content of the DB (unzipped size = 61.39kB):\n",
      "\n",
      "E8\n",
      "   /adjointrep : [0 0 0 0 0 0 1 0]\n",
      "   /cartanmatrix\n",
      "      /k : [[0 0]\n",
      "            [0 1]\n",
      "            [1 0]\n",
      "            ...\n",
      "            [6 6]\n",
      "            [7 2]\n",
      "            [7 7]]\n",
      "      /s : [8 8]\n",
      "      /v : [b'2' b'-1' b'-1' ... b'2' b'-1' b'2']\n",
      "   /dimension : 248\n",
      "   /fullname : E8\n",
      "   /name : E8\n",
      "   /rank : 8\n",
      "\n",
      "G2\n",
      "   /adjointrep : [1 0]\n",
      "   /cartanmatrix\n",
      "      /k : [[0 0]\n",
      "            [0 1]\n",
      "            [1 0]\n",
      "            [1 1]]\n",
      "      /s : [2 2]\n",
      "      /v : [b'2' b'-3' b'-1' b'2']\n",
      "   /dimension : 14\n",
      "   /fullname : G2\n",
      "   /name : G2\n",
      "   /rank : 2\n",
      "\n",
      "SO10\n",
      "   /adjointrep : [0 1 0 0 0]\n",
      "   /cartanmatrix\n",
      "      /k : [[0 0]\n",
      "            [0 1]\n",
      "            [1 0]\n",
      "            ...\n",
      "            [3 3]\n",
      "            [4 2]\n",
      "            [4 4]]\n",
      "      /s : [5 5]\n",
      "      /v : [b'2' b'-1' b'-1' ... b'2' b'-1' b'2']\n",
      "   /dimension : 45\n",
      "   /fullname : SO10\n",
      "   /name : D5\n",
      "   /rank : 5\n",
      "\n",
      "SU2\n",
      "   /adjointrep : [2]\n",
      "   /cartanmatrix\n",
      "      /k : [[0 0]]\n",
      "      /s : [1 1]\n",
      "      /v : [b'2']\n",
      "   /dimension : 3\n",
      "   /dynkinlabels\n",
      "      /2 : [1]\n",
      "   /fullname : SU2\n",
      "   /invariants\n",
      "      /((1,),(1,));10;1;00\n",
      "   /name : A1\n",
      "   /rank : 1\n",
      "   /repmatrices\n",
      "      /(1,);0;0\n",
      "   /structureconstants\n",
      "      /k : [[0 1 2]\n",
      "            [0 2 1]\n",
      "            [1 0 2]\n",
      "            [1 2 0]\n",
      "            [2 0 1]\n",
      "            [2 1 0]]\n",
      "      /s : [3 3 3]\n",
      "      /v : [b'1' b'-1' b'-1' b'1' b'1' b'-1']\n",
      "\n",
      "SU3\n",
      "   /adjointrep : [1 1]\n",
      "   /cartanmatrix\n",
      "      /k : [[0 0]\n",
      "            [0 1]\n",
      "            [1 0]\n",
      "            [1 1]]\n",
      "      /s : [2 2]\n",
      "      /v : [b'2' b'-1' b'-1' b'2']\n",
      "   /dimension : 8\n",
      "   /dynkinlabels\n",
      "      /-3 : [0 1]\n",
      "      /15 : [[2 1]\n",
      "             [4 0]]\n",
      "   /fullname : SU3\n",
      "   /name : A2\n",
      "   /rank : 2\n",
      "   /repmatrices\n",
      "      /(1,0);0;0\n",
      "\n",
      "SU5\n",
      "   /adjointrep : [1 0 0 1]\n",
      "   /cartanmatrix\n",
      "      /k : [[0 0]\n",
      "            [0 1]\n",
      "            [1 0]\n",
      "            ...\n",
      "            [2 3]\n",
      "            [3 2]\n",
      "            [3 3]]\n",
      "      /s : [4 4]\n",
      "      /v : [b'2' b'-1' b'-1' b'2' b'-1' b'-1' b'2' b'-1' b'-1' b'2']\n",
      "   /dimension : 24\n",
      "   /dynkinlabels\n",
      "      /-5 : [0 0 0 1]\n",
      "      /10 : [0 1 0 0]\n",
      "      /5 : [1 0 0 0]\n",
      "   /fullname : SU5\n",
      "   /invariants\n",
      "      /((0,0,0,1),(0,0,0,1),(0,1,0,0));000;1;000\n",
      "      /((0,1,0,0),(1,0,0,0),(0,1,0,0));000;1;000\n",
      "   /name : A4\n",
      "   /rank : 4\n"
     ]
    }
   ],
   "source": [
    "db.visit(shorter=True)"
   ]
  },
  {
   "cell_type": "markdown",
   "metadata": {},
   "source": [
    "### Getting information from the DB "
   ]
  },
  {
   "cell_type": "markdown",
   "metadata": {},
   "source": [
    "Before discussing the CGCs, let us try and get some information about the gauge groups. Here and after, the standard way to ask some DB some information is the method `.get(Group, Type of info, [Arguments, [Keyword arguments]])`. If the information is not already present in the DB, it will be automatically computed and stored."
   ]
  },
  {
   "cell_type": "code",
   "execution_count": 4,
   "metadata": {},
   "outputs": [
    {
     "name": "stdout",
     "output_type": "stream",
     "text": [
      "SU2 dimension :  3\n",
      "SO10 dimension:  45\n",
      "SU3 rank :  2\n",
      "SU5 adjoint representation : [1, 0, 0, 1]\n",
      "E8 dimension and rank :  (248, 8)\n",
      "G2 cartan matrix : Matrix([[2, -3], [-1, 2]])\n",
      "\n",
      "\n",
      "SU2 structure constants:\n",
      "[Matrix([\n",
      "[0,  0, 0],\n",
      "[0,  0, 1],\n",
      "[0, -1, 0]]), Matrix([\n",
      "[0, 0, -1],\n",
      "[0, 0,  0],\n",
      "[1, 0,  0]]), Matrix([\n",
      "[ 0, 1, 0],\n",
      "[-1, 0, 0],\n",
      "[ 0, 0, 0]])]\n"
     ]
    }
   ],
   "source": [
    "print('SU2 dimension : ', db.get('SU2', 'dimension'))\n",
    "print('SO10 dimension: ', db.get('SO10', 'dimension'))\n",
    "print('SU3 rank : ', db.get('SU3', 'rank'))\n",
    "print('SU5 adjoint representation :', db.get('SU5', 'adjoint'))\n",
    "print('E8 dimension and rank : ', (db.get('E8', 'dimension'), db.get('E8', 'rank')))\n",
    "print('G2 cartan matrix :', db.get('G2', 'cartan'))\n",
    "\n",
    "print('\\n\\nSU2 structure constants:')\n",
    "print(db.get('SU2', 'structureConstants'))"
   ]
  },
  {
   "cell_type": "markdown",
   "metadata": {},
   "source": [
    "#### Gauge generators"
   ]
  },
  {
   "cell_type": "markdown",
   "metadata": {},
   "source": [
    "Another useful information is the expression of the generators of a given representation of a gauge group. We will refer to them as 'representation matrices'."
   ]
  },
  {
   "cell_type": "code",
   "execution_count": 5,
   "metadata": {},
   "outputs": [
    {
     "name": "stdout",
     "output_type": "stream",
     "text": [
      "\n"
     ]
    }
   ],
   "source": [
    "# Load sympy's printing system in order to get good-looking output\n",
    "from sympy import init_session\n",
    "\n",
    "init_session(quiet=True)"
   ]
  },
  {
   "cell_type": "markdown",
   "metadata": {},
   "source": [
    "The standard way to get representation matrices is to call `.get(Group, 'repMatrices', [representation])` where `[representation]` refers to the dynkin labels of a given representation of the group. If you are not used to Dynkin labels but rather to the common Particle Physics notation based on the dimension of the representation (*e.g.* $\\mathbf{2}$ or $\\bar{\\mathbf{3}}$), you may call the method `.get(Group, 'labels', [representation])` :"
   ]
  },
  {
   "cell_type": "code",
   "execution_count": 6,
   "metadata": {},
   "outputs": [
    {
     "name": "stdout",
     "output_type": "stream",
     "text": [
      "SU2 2-dimensional rep :  [1]\n",
      "SU3 conjugated 3-dimensional rep :  [0, 1]\n"
     ]
    }
   ],
   "source": [
    "print('SU2 2-dimensional rep : ', db.get('SU2', 'labels', 2))\n",
    "print('SU3 conjugated 3-dimensional rep : ', db.get('SU3', 'labels', -3))"
   ]
  },
  {
   "cell_type": "markdown",
   "metadata": {},
   "source": [
    "Note that it may happen that several representations have the same dimension :"
   ]
  },
  {
   "cell_type": "code",
   "execution_count": 7,
   "metadata": {},
   "outputs": [
    {
     "data": {
      "image/png": "[encoded data removed]",
      "text/latex": [
       "$\\displaystyle \\left[ \\left[ 2, \\  1\\right], \\  \\left[ 4, \\  0\\right]\\right]$"
      ],
      "text/plain": [
       "[[2, 1], [4, 0]]"
      ]
     },
     "execution_count": 7,
     "metadata": {},
     "output_type": "execute_result"
    }
   ],
   "source": [
    "db.get('SU3', 'labels', 15)"
   ]
  },
  {
   "cell_type": "markdown",
   "metadata": {},
   "source": [
    "Now let's ask for the generators of the representations $\\mathbf{2}$ of $SU(2)$ and $\\mathbf{3}$ of $SU(3)$ :"
   ]
  },
  {
   "cell_type": "code",
   "execution_count": 8,
   "metadata": {},
   "outputs": [
    {
     "data": {
      "image/png": "[encoded data removed]",
      "text/latex": [
       "$\\displaystyle \\left[ \\left[\\begin{matrix}0 & \\frac{1}{2}\\\\\\frac{1}{2} & 0\\end{matrix}\\right], \\  \\left[\\begin{matrix}0 & - \\frac{i}{2}\\\\\\frac{i}{2} & 0\\end{matrix}\\right], \\  \\left[\\begin{matrix}\\frac{1}{2} & 0\\\\0 & - \\frac{1}{2}\\end{matrix}\\right]\\right]$"
      ],
      "text/plain": [
       "⎡            ⎡   -ⅈ ⎤             ⎤\n",
       "⎢            ⎢0  ───⎥             ⎥\n",
       "⎢⎡ 0   1/2⎤  ⎢    2 ⎥  ⎡1/2   0  ⎤⎥\n",
       "⎢⎢        ⎥, ⎢      ⎥, ⎢         ⎥⎥\n",
       "⎢⎣1/2   0 ⎦  ⎢ⅈ     ⎥  ⎣ 0   -1/2⎦⎥\n",
       "⎢            ⎢─   0 ⎥             ⎥\n",
       "⎣            ⎣2     ⎦             ⎦"
      ]
     },
     "execution_count": 8,
     "metadata": {},
     "output_type": "execute_result"
    }
   ],
   "source": [
    "db.get('SU2', 'repMatrices', [1]) # We expect the Pauli matrices to show up ..."
   ]
  },
  {
   "cell_type": "code",
   "execution_count": 9,
   "metadata": {},
   "outputs": [
    {
     "data": {
      "image/png": "[encoded data removed]",
      "text/latex": [
       "$\\displaystyle \\left[ \\left[\\begin{matrix}0 & \\frac{1}{2} & 0\\\\\\frac{1}{2} & 0 & 0\\\\0 & 0 & 0\\end{matrix}\\right], \\  \\left[\\begin{matrix}0 & 0 & 0\\\\0 & 0 & \\frac{1}{2}\\\\0 & \\frac{1}{2} & 0\\end{matrix}\\right], \\  \\left[\\begin{matrix}0 & 0 & \\frac{i}{2}\\\\0 & 0 & 0\\\\- \\frac{i}{2} & 0 & 0\\end{matrix}\\right], \\  \\left[\\begin{matrix}0 & - \\frac{i}{2} & 0\\\\\\frac{i}{2} & 0 & 0\\\\0 & 0 & 0\\end{matrix}\\right], \\  \\left[\\begin{matrix}0 & 0 & 0\\\\0 & 0 & - \\frac{i}{2}\\\\0 & \\frac{i}{2} & 0\\end{matrix}\\right], \\  \\left[\\begin{matrix}0 & 0 & - \\frac{1}{2}\\\\0 & 0 & 0\\\\- \\frac{1}{2} & 0 & 0\\end{matrix}\\right], \\  \\left[\\begin{matrix}\\frac{\\sqrt{3}}{3} & 0 & 0\\\\0 & - \\frac{\\sqrt{3}}{6} & 0\\\\0 & 0 & - \\frac{\\sqrt{3}}{6}\\end{matrix}\\right], \\  \\left[\\begin{matrix}0 & 0 & 0\\\\0 & \\frac{1}{2} & 0\\\\0 & 0 & - \\frac{1}{2}\\end{matrix}\\right]\\right]$"
      ],
      "text/plain": [
       "⎡                                                                                      ⎡√3            ⎤                ⎤\n",
       "⎢                              ⎡        ⅈ⎤  ⎡   -ⅈ    ⎤  ⎡0  0   0 ⎤                   ⎢──   0     0  ⎥                ⎥\n",
       "⎢                              ⎢ 0   0  ─⎥  ⎢0  ───  0⎥  ⎢         ⎥                   ⎢3             ⎥                ⎥\n",
       "⎢⎡ 0   1/2  0⎤  ⎡0   0    0 ⎤  ⎢        2⎥  ⎢    2    ⎥  ⎢      -ⅈ ⎥  ⎡ 0    0  -1/2⎤  ⎢              ⎥  ⎡0   0    0  ⎤⎥\n",
       "⎢⎢           ⎥  ⎢           ⎥  ⎢         ⎥  ⎢         ⎥  ⎢0  0  ───⎥  ⎢             ⎥  ⎢    -√3       ⎥  ⎢            ⎥⎥\n",
       "⎢⎢1/2   0   0⎥, ⎢0   0   1/2⎥, ⎢ 0   0  0⎥, ⎢ⅈ        ⎥, ⎢       2 ⎥, ⎢ 0    0   0  ⎥, ⎢0   ────   0  ⎥, ⎢0  1/2   0  ⎥⎥\n",
       "⎢⎢           ⎥  ⎢           ⎥  ⎢         ⎥  ⎢─   0   0⎥  ⎢         ⎥  ⎢             ⎥  ⎢     6        ⎥  ⎢            ⎥⎥\n",
       "⎢⎣ 0    0   0⎦  ⎣0  1/2   0 ⎦  ⎢-ⅈ       ⎥  ⎢2        ⎥  ⎢   ⅈ     ⎥  ⎣-1/2  0   0  ⎦  ⎢              ⎥  ⎣0   0   -1/2⎦⎥\n",
       "⎢                              ⎢───  0  0⎥  ⎢         ⎥  ⎢0  ─   0 ⎥                   ⎢          -√3 ⎥                ⎥\n",
       "⎢                              ⎣ 2       ⎦  ⎣0   0   0⎦  ⎣   2     ⎦                   ⎢0    0    ────⎥                ⎥\n",
       "⎣                                                                                      ⎣           6  ⎦                ⎦"
      ]
     },
     "execution_count": 9,
     "metadata": {},
     "output_type": "execute_result"
    }
   ],
   "source": [
    "db.get('SU3', 'repMatrices', [1,0]) # We expect the Gell-Mann matrices to show up ..."
   ]
  },
  {
   "cell_type": "markdown",
   "metadata": {},
   "source": [
    "The Pauli matrices did show up in the first case, but the second output does not match the usual expression for the Gell-Mann matrices (altough it looks similar). This brings us to an important remark :   \n",
    "<br>\n",
    "<center><span style=\"font-size:larger;\"> The explicit form of the generators of a representation is not uniquely defined. For a given representation, there exists infinitely many sets of gauge generators satisfying the commutation relations of the Lie algebra. Some quantities, such as the CGCs, depend in general on the choice of the generators. </span></center>"
   ]
  },
  {
   "cell_type": "markdown",
   "metadata": {},
   "source": [
    "## Using Clebsch-Gordan coefficients to build a Lagrangian"
   ]
  },
  {
   "cell_type": "markdown",
   "metadata": {},
   "source": [
    "### Introductory example"
   ]
  },
  {
   "cell_type": "markdown",
   "metadata": {},
   "source": [
    "#### 1. Compute the CGCs"
   ]
  },
  {
   "cell_type": "markdown",
   "metadata": {},
   "source": [
    "Let's begin the discussion with a simple example. We consider two fields transforming respectively in the representations $\\bar{\\mathbf{2}}$ and $\\mathbf{2}$ of $SU(2)$. Somehow, we forgot how to contract these two fields in a gauge singlet (it sure has been a long day). We simply have to get the CGCs for this combination of fields, calling as usual the `.get()` method with the keyword `'invariants'` (or equivalently `cgc`, `cgcs`, `inv`, `invs`) :"
   ]
  },
  {
   "cell_type": "code",
   "execution_count": 10,
   "metadata": {},
   "outputs": [
    {
     "data": {
      "text/plain": [
       "[a[1]*b[1] + a[2]*b[2]]"
      ]
     },
     "execution_count": 10,
     "metadata": {},
     "output_type": "execute_result"
    }
   ],
   "source": [
    "db.get('SU2', 'invariants', [[1, True], [1]])"
   ]
  },
  {
   "cell_type": "markdown",
   "metadata": {},
   "source": [
    " -- **Remark**: Since $\\mathbf{2}$ of $SU(2)$ is a pseudo-real representation, it is equivalent to its conjugate representation $\\bar{\\mathbf{2}}$ and therefore both have the same Dynkin labels. In this case the conjugate repreentation is obtained by appending `True` to the list of Dynkin labels.] --"
   ]
  },
  {
   "cell_type": "markdown",
   "metadata": {},
   "source": [
    "The output is a list containing only one element ; meaning that there is only one way to get a gauge singlet out of these two fields."
   ]
  },
  {
   "cell_type": "markdown",
   "metadata": {},
   "source": [
    "#### 2. Use CGCs in the model file"
   ]
  },
  {
   "cell_type": "markdown",
   "metadata": {},
   "source": [
    "We now want to build a Lagrangian using the invariant identified above. Before going further, we note that this invariant can be rewritten in the form  \n",
    "\n",
    "\\begin{equation}\n",
    "    I = a_1 b^1 + a_2 b^2 \\equiv C^i_{\\ j}\\, a_i b^j \\,.\n",
    "\\end{equation}\n",
    "\n",
    "This is the general formulation of CGCs that we will use in the model file.\n",
    "\n",
    "The first step is to define the tensor `C`, in the `Definitions` section of the model file. There are two ways to proceed, using the keyword `cgc( ... )` :\n",
    "- `C : cgc(SU2, [[1], [1,True]], 0)` asks PyR@TE to compute the invariant combinations from the product $\\bar{\\mathbf{2}} \\otimes \\mathbf{2}$ of $SU(2)$, and to take the first one (`0` stand for the first element of the Python list). The last argument is optional in this case, since `cgc('group', 'reps')` will always pick up the first invariant returned by PyLie.\n",
    "- `C : cgc(SU2L, Hbar, H)` asks PyR@TE the invariant combination of the fields $H^\\dagger$ and $H$ under the group named `SU2L`. This equivalent formulation requires of course that all the quantities were defined earlier in the model file. Here $H$ stands for the Higgs doublet of the Standard Model.  \n",
    "\n",
    "Now we can use the tensor `C` to express the Higgs mass coupling (under `ScalarMasses` in the model file) : `mu : C[i,j] Hbar[i] H[j]`.  \n",
    "We could also have used a different normalization, for instance : `mu : 1/2 * C[i,j] Hbar[i] H[j]`"
   ]
  },
  {
   "cell_type": "markdown",
   "metadata": {},
   "source": [
    "#### 3. Invariant combinations of fields carrying more than one index"
   ]
  },
  {
   "cell_type": "markdown",
   "metadata": {},
   "source": [
    "Things get more complicated when fields carry several indices (i.e. are charged under several non-abelian gauge factors), still the generalization is straightforward. Let us consider the down-type quark Yukawa coupling of the standard model : (flavour indices are kept implicit)  \n",
    "\n",
    "\\begin{equation}\n",
    "    -\\mathcal{L} \\supset Y_d\\, \\bar{Q}_{i a} H^i d_R^a\n",
    "\\end{equation}\n",
    "\n",
    "One way of understanding this term is to consider that we are taking the product of three representations of the semi-simple gauge group $SU(2)\\times SU(3)$, that is : $(\\bar{\\mathbf{2}},\\bar{\\mathbf{3}})\\otimes(\\mathbf{2}, \\mathbf{1})\\otimes(\\mathbf{1}, \\mathbf{3})$. Since the `invariants` function only works with simple algebras, we will rather consider that two contractions happen simultaneously here: $\\bar{\\mathbf{2}}\\otimes\\mathbf{2}\\otimes\\mathbf{1} = \\bar{\\mathbf{2}}\\otimes\\mathbf{2}$ under $SU(2)$ and $\\bar{\\mathbf{3}}\\otimes\\mathbf{1}\\otimes\\mathbf{3} = \\bar{\\mathbf{3}}\\otimes\\mathbf{3}$ under $SU(3)$. We must therefore define two invariant tensors to build this term :\n",
    "- `C1 : cgc(SU2, [[1,True], [1]])`\n",
    "- `C2 : cgc(SU3, [[0,1], [1,0]])`\n",
    "\n",
    "$\\Rightarrow$ `Yd : C1[i,j]*C2[a,b]*Qbar[a,i] H[j] dR[b]`   \n",
    "\n",
    "Of course, in this example, the invariant tensors are nothing more than Kronecker deltas, so we could as well have written `Yd : Qbar[a,i] H[i] dR[a]`."
   ]
  },
  {
   "cell_type": "markdown",
   "metadata": {},
   "source": [
    "### A concrete (and more useful) example"
   ]
  },
  {
   "cell_type": "markdown",
   "metadata": {},
   "source": [
    "In the examples above, we had the choice not to use the CGCs, and instead directly contract the various indices. In some other cases, this simple formulation will not allow the user to write a given gauge-invariant combination of fields.  \n",
    "\n",
    "To illustrate this, let us take the example of $SU(5)$, with the following particle content :\n",
    "- Two fermions :  $\\psi_5 \\in \\bar{\\mathbf{5}}$  and  $\\psi_{10} \\in \\mathbf{10}$\n",
    "- One complex scalar :  $\\phi_5 \\in \\mathbf{5}$"
   ]
  },
  {
   "cell_type": "markdown",
   "metadata": {},
   "source": [
    "#### Introduction to the `repProduct` function"
   ]
  },
  {
   "cell_type": "markdown",
   "metadata": {},
   "source": [
    "Two Yukawa couplings can be constructed out of these three fields. To see this, we can use one of PyLie's functions, `repProduct` :"
   ]
  },
  {
   "cell_type": "code",
   "execution_count": 11,
   "metadata": {},
   "outputs": [
    {
     "name": "stdout",
     "output_type": "stream",
     "text": [
      "Dynkin labels of 5 and 5bar :  [1, 0, 0, 0] and [0, 0, 0, 1]\n",
      "Dynkin labels of 10 :  [0, 1, 0, 0]\n"
     ]
    }
   ],
   "source": [
    "# 1. What are the dynkin labels of 5, 5bar and 10 ?\n",
    "print(\"Dynkin labels of 5 and 5bar : \", db.get('SU5', 'labels', 5), 'and', db.get('SU5', 'labels', -5))\n",
    "print(\"Dynkin labels of 10 : \", db.get('SU5', 'labels', 10))"
   ]
  },
  {
   "cell_type": "code",
   "execution_count": 12,
   "metadata": {},
   "outputs": [
    {
     "data": {
      "image/png": "[encoded data removed]",
      "text/latex": [
       "$\\displaystyle \\mathbf{24}\\oplus\\mathbf{1}$"
      ],
      "text/plain": [
       "\\mathbf{24}\\oplus\\mathbf{1}"
      ]
     },
     "execution_count": 12,
     "metadata": {},
     "output_type": "execute_result"
    }
   ],
   "source": [
    "# 2. Let's first see what comes out of the product 5 * 5bar\n",
    "db.get('SU5', 'repProduct', [[1,0,0,0], [0,0,0,1]], iLatex=True)"
   ]
  },
  {
   "cell_type": "markdown",
   "metadata": {},
   "source": [
    "The output means that $\\mathbf{5}\\otimes\\bar{\\mathbf{5}} = \\mathbf{24} \\oplus \\mathbf{1}$. The fact that the decomposition contains the trivial representation $\\mathbf{1}$ means that we may construct one (and only one) gauge singlet out of the representations $\\mathbf{5}$ and $\\bar{\\mathbf{5}}$.  \n",
    "Now, playing with the representation $\\mathbf{10}$ as well, we find two possible ways of generating the trivial representation :"
   ]
  },
  {
   "cell_type": "code",
   "execution_count": 13,
   "metadata": {},
   "outputs": [
    {
     "data": {
      "image/png": "[encoded data removed]",
      "text/latex": [
       "$\\displaystyle \\mathbf{126}\\oplus\\mathbf{75}\\oplus\\mathbf{24}\\oplus\\mathbf{24}\\oplus\\mathbf{1}$"
      ],
      "text/plain": [
       "\\mathbf{126}\\oplus\\mathbf{75}\\oplus\\mathbf{24}\\oplus\\mathbf{24}\\oplus\\mathbf{1}"
      ]
     },
     "execution_count": 13,
     "metadata": {},
     "output_type": "execute_result"
    }
   ],
   "source": [
    "# 5bar*10*5bar\n",
    "db.get('SU5', 'repProduct', [[0,0,0,1], [0,1,0,0], [0,0,0,1]], iLatex=True)"
   ]
  },
  {
   "cell_type": "code",
   "execution_count": 14,
   "metadata": {},
   "outputs": [
    {
     "data": {
      "image/png": "[encoded data removed]",
      "text/latex": [
       "$\\displaystyle \\overline{\\mathbf{175}^{'}}\\oplus\\overline{\\mathbf{126}}\\oplus\\mathbf{75}\\oplus\\mathbf{75}\\oplus\\mathbf{24}\\oplus\\mathbf{24}\\oplus\\mathbf{1}$"
      ],
      "text/plain": [
       "\\overline{\\mathbf{175}__{'}}\\oplus\\overline{\\mathbf{126}}\\oplus\\mathbf{75}\\oplus\\mathbf{75}\\oplus\\mathbf{24}\\oplus\\mathbf{24}\\oplus\\mathbf{1}"
      ]
     },
     "execution_count": 14,
     "metadata": {},
     "output_type": "execute_result"
    }
   ],
   "source": [
    "# 5*10*10\n",
    "db.get('SU5', 'repProduct', [[1,0,0,0], [0,1,0,0], [0,1,0,0]], iLatex=True)"
   ]
  },
  {
   "cell_type": "markdown",
   "metadata": {},
   "source": [
    "#### Building the Yukawa Lagrangian"
   ]
  },
  {
   "cell_type": "markdown",
   "metadata": {},
   "source": [
    "The first term that we may construct is $\\psi_5\\, \\phi_5^\\dagger\\, \\psi_{10}$. Let's try to get the corresponding CGCs :"
   ]
  },
  {
   "cell_type": "code",
   "execution_count": 15,
   "metadata": {},
   "outputs": [
    {
     "data": {
      "text/plain": [
       "[a[1]*b[2]*c[1] + a[1]*b[3]*c[2] + a[1]*b[4]*c[3] + a[1]*b[5]*c[4] - a[2]*b[1]*c[1] + a[2]*b[3]*c[5] + a[2]*b[4]*c[6] + a[2]*b[5]*c[7] - a[3]*b[1]*c[2] - a[3]*b[2]*c[5] + a[3]*b[4]*c[8] + a[3]*b[5]*c[9] - a[4]*b[1]*c[3] - a[4]*b[2]*c[6] - a[4]*b[3]*c[8] + a[4]*b[5]*c[10] - a[5]*b[1]*c[4] - a[5]*b[2]*c[7] - a[5]*b[3]*c[9] - a[5]*b[4]*c[10]]"
      ]
     },
     "execution_count": 15,
     "metadata": {},
     "output_type": "execute_result"
    }
   ],
   "source": [
    "db.get('SU5', 'invariants', [[0,0,0,1], [0,0,0,1], [0,1,0,0]])"
   ]
  },
  {
   "cell_type": "markdown",
   "metadata": {},
   "source": [
    "Clearly, we wouldn't have been able to produce this term using index contractions. In the model file we may define the previous invariant as `C5 : cgc(SU5, [[0,0,0,1], [0,0,0,1], [0,1,0,0]])` then use it in the definition of the Yukawa term : `Y5 : C5[i,j,k] * psi5[i] phi5bar[j] psi10[k]`"
   ]
  },
  {
   "cell_type": "markdown",
   "metadata": {},
   "source": [
    "For the second term, $\\psi_{10}\\, \\phi_5\\, \\psi_{10}$, we get :"
   ]
  },
  {
   "cell_type": "code",
   "execution_count": 16,
   "metadata": {},
   "outputs": [
    {
     "data": {
      "text/plain": [
       "[a[10]*b[1]*c[5] - a[10]*b[2]*c[2] + a[10]*b[3]*c[1] + a[1]*b[3]*c[10] - a[1]*b[4]*c[9] + a[1]*b[5]*c[8] - a[2]*b[2]*c[10] + a[2]*b[4]*c[7] - a[2]*b[5]*c[6] + a[3]*b[2]*c[9] - a[3]*b[3]*c[7] + a[3]*b[5]*c[5] - a[4]*b[2]*c[8] + a[4]*b[3]*c[6] - a[4]*b[4]*c[5] + a[5]*b[1]*c[10] - a[5]*b[4]*c[4] + a[5]*b[5]*c[3] - a[6]*b[1]*c[9] + a[6]*b[3]*c[4] - a[6]*b[5]*c[2] + a[7]*b[1]*c[8] - a[7]*b[3]*c[3] + a[7]*b[4]*c[2] + a[8]*b[1]*c[7] - a[8]*b[2]*c[4] + a[8]*b[5]*c[1] - a[9]*b[1]*c[6] + a[9]*b[2]*c[3] - a[9]*b[4]*c[1]]"
      ]
     },
     "execution_count": 16,
     "metadata": {},
     "output_type": "execute_result"
    }
   ],
   "source": [
    "db.get('SU5', 'invariants', [[0,1,0,0], [1,0,0,0], [0,1,0,0]])"
   ]
  },
  {
   "cell_type": "markdown",
   "metadata": {},
   "source": [
    "And we will add the definition `C10 : cgc(SU5, [0,1,0,0], [1,0,0,0], [0,1,0,0]])` along with the Yukawa coupling `Y10 : C10[i,j,k] psi10[i] phi5[j] psi10[k]`"
   ]
  },
  {
   "cell_type": "code",
   "execution_count": 17,
   "metadata": {},
   "outputs": [],
   "source": [
    "# Close the DB eventually\n",
    "db.close()"
   ]
  }
 ],
 "metadata": {
  "kernelspec": {
   "display_name": "Python [conda env:Py3] *",
   "language": "python",
   "name": "conda-env-Py3-py"
  },
  "language_info": {
   "codemirror_mode": {
    "name": "ipython",
    "version": 3
   },
   "file_extension": ".py",
   "mimetype": "text/x-python",
   "name": "python",
   "nbconvert_exporter": "python",
   "pygments_lexer": "ipython3",
   "version": "3.6.10"
  }
 },
 "nbformat": 4,
 "nbformat_minor": 4
}
