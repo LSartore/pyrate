{
 "cells": [
  {
   "cell_type": "markdown",
   "metadata": {},
   "source": [
    "# Interacting with PyLie's database"
   ]
  },
  {
   "cell_type": "markdown",
   "metadata": {},
   "source": [
    "As explained in Appendix D of PyR@TE 3's manual, it might be necessary to use Clebsch-Gordan coefficients (CGCs) to build the Lagrangian of a given model. The general syntax in the model file is:"
   ]
  },
  {
   "cell_type": "raw",
   "metadata": {},
   "source": [
    "Definitions: {\n",
    "    C : cgc(groupName, field_1, ... field_N, P),\n",
    "  # or, equivalently, \n",
    "    C : cgc(group, representation 1, ... representation N, P)\n",
    "}"
   ]
  },
  {
   "cell_type": "markdown",
   "metadata": {},
   "source": [
    "Here, `P` indicates that we are using the `P`th invariant tensor returned by PyLie's `invariants()` function. When there is only one possible gauge invariant contraction, this last argument can simply be omitted. In other cases however, there might be several such invariants. In this case, we have to interrogate PyLie's database to get the return value of the `invariants()` function.\n",
    "In this tutorial notebook, we show how to interact with the database to get various types of information, such as the CGCs, and some other info related to the Lie algebras."
   ]
  },
  {
   "cell_type": "markdown",
   "metadata": {},
   "source": [
    "---\n",
    "First, let's get into PyLie's main directory (located in `/src/PyLie` from PyR@TE's directory) :"
   ]
  },
  {
   "cell_type": "code",
   "execution_count": null,
   "metadata": {},
   "outputs": [],
   "source": [
    "%cd .../PyR@TE_3/src/PyLie"
   ]
  },
  {
   "cell_type": "markdown",
   "metadata": {},
   "source": [
    "Let's import the PyLieDB class and load the database (DB) by instantiating a database object, `db` :"
   ]
  },
  {
   "cell_type": "code",
   "execution_count": 2,
   "metadata": {},
   "outputs": [],
   "source": [
    "from PyLieDB import PyLieDB\n",
    "\n",
    "# Create an instance of the Database object\n",
    "db = PyLieDB()"
   ]
  },
  {
   "cell_type": "markdown",
   "metadata": {},
   "source": [
    "The content of the DB can be printed at any time calling `db.visit()`, or, equivalently, `print(db)`. The argument `shorter=True` can be provided if we do not want to display the whole content of the contained matrices and tensors."
   ]
  },
  {
   "cell_type": "code",
   "execution_count": 3,
   "metadata": {
    "scrolled": true
   },
   "outputs": [
    {
     "name": "stdout",
     "output_type": "stream",
     "text": [
      "Content of the DB (unzipped size = 2.54MB):\n",
      "\n",
      "E6\n",
      "   /adjointrep : [0 0 0 0 0 1]\n",
      "   /cartanmatrix\n",
      "      /k : [[0 0]\n",
      "            [0 1]\n",
      "            [1 0]\n",
      "            ...\n",
      "            [4 4]\n",
      "            [5 2]\n",
      "            [5 5]]\n",
      "      /s : [6 6]\n",
      "      /v : [b'2' b'-1' b'-1' ... b'2' b'-1' b'2']\n",
      "   /dimension : 78\n",
      "   /fullname : E6\n",
      "   /name : E6\n",
      "   /rank : 6\n",
      "   /structureconstants\n",
      "      /k : [[ 0  1  6]\n",
      "            [ 0  6  1]\n",
      "            [ 0  7 11]\n",
      "            ...\n",
      "            [77 61 25]\n",
      "            [77 70 34]\n",
      "            [77 71 35]]\n",
      "      /s : [78 78 78]\n",
      "      /v : [b'-1/2' b'1/2' b'1/2' ... b'1/2' b'-1/2' b'-1/2']\n",
      "\n",
      "E7\n",
      "   /adjointrep : [1 0 0 0 0 0 0]\n",
      "   /cartanmatrix\n",
      "      /k : [[0 0]\n",
      "            [0 1]\n",
      "            [1 0]\n",
      "            ...\n",
      "            [5 5]\n",
      "            [6 2]\n",
      "            [6 6]]\n",
      "      /s : [7 7]\n",
      "      /v : [b'2' b'-1' b'-1' ... b'2' b'-1' b'2']\n",
      "   /dimension : 133\n",
      "   /fullname : E7\n",
      "   /name : E7\n",
      "   /rank : 7\n",
      "   /structureconstants\n",
      "      /k : [[  0   1   7]\n",
      "            [  0   7   1]\n",
      "            [  0   8  13]\n",
      "            ...\n",
      "            [132 120  57]\n",
      "            [132 121  58]\n",
      "            [132 122  59]]\n",
      "      /s : [133 133 133]\n",
      "      /v : [b'-1/2' b'1/2' b'1/2' ... b'1/2' b'-1/2' b'1/2']\n",
      "\n",
      "E8\n",
      "   /adjointrep : [0 0 0 0 0 0 1 0]\n",
      "   /cartanmatrix\n",
      "      /k : [[0 0]\n",
      "            [0 1]\n",
      "            [1 0]\n",
      "            ...\n",
      "            [6 6]\n",
      "            [7 2]\n",
      "            [7 7]]\n",
      "      /s : [8 8]\n",
      "      /v : [b'2' b'-1' b'-1' ... b'2' b'-1' b'2']\n",
      "   /dimension : 248\n",
      "   /fullname : E8\n",
      "   /name : E8\n",
      "   /rank : 8\n",
      "   /structureconstants\n",
      "      /k : [[  0   1   8]\n",
      "            [  0   8   1]\n",
      "            [  0   9  15]\n",
      "            ...\n",
      "            [247 232 112]\n",
      "            [247 233 113]\n",
      "            [247 234 114]]\n",
      "      /s : [248 248 248]\n",
      "      /v : [b'-1/2' b'1/2' b'1/2' ... b'1/2' b'-1/2' b'1/2']\n",
      "\n",
      "F4\n",
      "   /adjointrep : [1 0 0 0]\n",
      "   /cartanmatrix\n",
      "      /k : [[0 0]\n",
      "            [0 1]\n",
      "            [1 0]\n",
      "            ...\n",
      "            [2 3]\n",
      "            [3 2]\n",
      "            [3 3]]\n",
      "      /s : [4 4]\n",
      "      /v : [b'2' b'-1' b'-1' b'2' b'-2' b'-1' b'2' b'-1' b'-1' b'2']\n",
      "   /dimension : 52\n",
      "   /dimr\n",
      "      /(1,0,0,0) : 52\n",
      "   /fullname : F4\n",
      "   /name : F4\n",
      "   /rank : 4\n",
      "   /structureconstants\n",
      "      /k : [[ 0  1  4]\n",
      "            [ 0  4  1]\n",
      "            [ 0  5  7]\n",
      "            ...\n",
      "            [51 42 18]\n",
      "            [51 43 19]\n",
      "            [51 44 20]]\n",
      "      /s : [52 52 52]\n",
      "      /v : [b'-1/2' b'1/2' b'1/2' ... b's(2)/4' b'-s(2)/2' b's(2)/4']\n",
      "\n",
      "G2\n",
      "   /adjointrep : [1 0]\n",
      "   /cartanmatrix\n",
      "      /k : [[0 0]\n",
      "            [0 1]\n",
      "            [1 0]\n",
      "            [1 1]]\n",
      "      /s : [2 2]\n",
      "      /v : [b'2' b'-3' b'-1' b'2']\n",
      "   /dimension : 14\n",
      "   /fullname : G2\n",
      "   /name : G2\n",
      "   /rank : 2\n",
      "   /structureconstants\n",
      "      /k : [[ 0  1  2]\n",
      "            [ 0  2  1]\n",
      "            [ 0  4  5]\n",
      "            ...\n",
      "            [13  8  2]\n",
      "            [13  9  3]\n",
      "            [13 10  4]]\n",
      "      /s : [14 14 14]\n",
      "      /v : [b'-1/2' b'1/2' b'1/2' ... b'-s(3)/6' b'-s(3)/6' b's(3)/2']\n",
      "\n",
      "SO10\n",
      "   /adjointrep : [0 1 0 0 0]\n",
      "   /cartanmatrix\n",
      "      /k : [[0 0]\n",
      "            [0 1]\n",
      "            [1 0]\n",
      "            ...\n",
      "            [3 3]\n",
      "            [4 2]\n",
      "            [4 4]]\n",
      "      /s : [5 5]\n",
      "      /v : [b'2' b'-1' b'-1' ... b'2' b'-1' b'2']\n",
      "   /dimension : 45\n",
      "   /dynkinlabels\n",
      "      /-126 : [0 0 0 2 0]\n",
      "      /126 : [0 0 0 0 2]\n",
      "      /16 : [0 0 0 0 1]\n",
      "   /fullname : SO10\n",
      "   /name : D5\n",
      "   /rank : 5\n",
      "   /structureconstants\n",
      "      /k : [[ 0  1  5]\n",
      "            [ 0  5  1]\n",
      "            [ 0  6  9]\n",
      "            ...\n",
      "            [44 34 14]\n",
      "            [44 35 15]\n",
      "            [44 36 16]]\n",
      "      /s : [45 45 45]\n",
      "      /v : [b'-1/2' b'1/2' b'1/2' ... b'1/2' b'1/2' b'-1/2']\n",
      "\n",
      "SO5\n",
      "   /adjointrep : [0 2]\n",
      "   /cartanmatrix\n",
      "      /k : [[0 0]\n",
      "            [0 1]\n",
      "            [1 0]\n",
      "            [1 1]]\n",
      "      /s : [2 2]\n",
      "      /v : [b'2' b'-2' b'-1' b'2']\n",
      "   /dimension : 10\n",
      "   /fullname : SO5\n",
      "   /name : B2\n",
      "   /rank : 2\n",
      "   /structureconstants\n",
      "      /k : [[0 1 2]\n",
      "            [0 2 1]\n",
      "            [0 4 8]\n",
      "            ...\n",
      "            [9 4 0]\n",
      "            [9 5 1]\n",
      "            [9 7 3]]\n",
      "      /s : [10 10 10]\n",
      "      /v : [b'-1/2' b'1/2' b's(2)/2' ... b's(2)/2' b'-s(2)/2' b'-s(2)/2']\n",
      "\n",
      "SO6\n",
      "   /adjointrep : [0 1 1]\n",
      "   /cartanmatrix\n",
      "      /k : [[0 0]\n",
      "            [0 1]\n",
      "            [0 2]\n",
      "            ...\n",
      "            [1 1]\n",
      "            [2 0]\n",
      "            [2 2]]\n",
      "      /s : [3 3]\n",
      "      /v : [b'2' b'-1' b'-1' b'-1' b'2' b'-1' b'2']\n",
      "   /dimension : 15\n",
      "   /fullname : SO6\n",
      "   /name : D3\n",
      "   /rank : 3\n",
      "   /structureconstants\n",
      "      /k : [[ 0  1  3]\n",
      "            [ 0  2  4]\n",
      "            [ 0  3  1]\n",
      "            ...\n",
      "            [14  9  3]\n",
      "            [14 10  4]\n",
      "            [14 11  5]]\n",
      "      /s : [15 15 15]\n",
      "      /v : [b'-1/2' b'-1/2' b'1/2' ... b'-1/2' b'1/2' b'-1/2']\n",
      "\n",
      "SO7\n",
      "   /adjointrep : [0 1 0]\n",
      "   /cartanmatrix\n",
      "      /k : [[0 0]\n",
      "            [0 1]\n",
      "            [1 0]\n",
      "            ...\n",
      "            [1 2]\n",
      "            [2 1]\n",
      "            [2 2]]\n",
      "      /s : [3 3]\n",
      "      /v : [b'2' b'-1' b'-1' b'2' b'-2' b'-1' b'2']\n",
      "   /dimension : 21\n",
      "   /fullname : SO7\n",
      "   /name : B3\n",
      "   /rank : 3\n",
      "   /structureconstants\n",
      "      /k : [[ 0  1  3]\n",
      "            [ 0  3  1]\n",
      "            [ 0  4  5]\n",
      "            ...\n",
      "            [20 12  3]\n",
      "            [20 15  6]\n",
      "            [20 16  7]]\n",
      "      /s : [21 21 21]\n",
      "      /v : [b'-1/2' b'1/2' b'1/2' ... b'-s(2)/2' b'-s(2)/2' b's(2)/2']\n",
      "\n",
      "SO8\n",
      "   /adjointrep : [0 1 0 0]\n",
      "   /cartanmatrix\n",
      "      /k : [[0 0]\n",
      "            [0 1]\n",
      "            [1 0]\n",
      "            ...\n",
      "            [2 2]\n",
      "            [3 1]\n",
      "            [3 3]]\n",
      "      /s : [4 4]\n",
      "      /v : [b'2' b'-1' b'-1' b'2' b'-1' b'-1' b'-1' b'2' b'-1' b'2']\n",
      "   /dimension : 28\n",
      "   /fullname : SO8\n",
      "   /name : D4\n",
      "   /rank : 4\n",
      "   /structureconstants\n",
      "      /k : [[ 0  1  4]\n",
      "            [ 0  4  1]\n",
      "            [ 0  5  7]\n",
      "            ...\n",
      "            [27 20  8]\n",
      "            [27 21  9]\n",
      "            [27 22 10]]\n",
      "      /s : [28 28 28]\n",
      "      /v : [b'-1/2' b'1/2' b'1/2' ... b'-1/2' b'-1/2' b'1/2']\n",
      "\n",
      "SO9\n",
      "   /adjointrep : [0 1 0 0]\n",
      "   /cartanmatrix\n",
      "      /k : [[0 0]\n",
      "            [0 1]\n",
      "            [1 0]\n",
      "            ...\n",
      "            [2 3]\n",
      "            [3 2]\n",
      "            [3 3]]\n",
      "      /s : [4 4]\n",
      "      /v : [b'2' b'-1' b'-1' b'2' b'-1' b'-1' b'2' b'-2' b'-1' b'2']\n",
      "   /dimension : 36\n",
      "   /fullname : SO9\n",
      "   /name : B4\n",
      "   /rank : 4\n",
      "   /structureconstants\n",
      "      /k : [[ 0  1  4]\n",
      "            [ 0  4  1]\n",
      "            [ 0  5  7]\n",
      "            ...\n",
      "            [35 25  9]\n",
      "            [35 27 11]\n",
      "            [35 28 12]]\n",
      "      /s : [36 36 36]\n",
      "      /v : [b'-1/2' b'1/2' b'1/2' ... b'-s(2)/2' b's(2)/2' b'-s(2)/2']\n",
      "\n",
      "SP10\n",
      "   /adjointrep : [2 0 0 0 0]\n",
      "   /cartanmatrix\n",
      "      /k : [[0 0]\n",
      "            [0 1]\n",
      "            [1 0]\n",
      "            ...\n",
      "            [3 4]\n",
      "            [4 3]\n",
      "            [4 4]]\n",
      "      /s : [5 5]\n",
      "      /v : [b'2' b'-1' b'-1' ... b'-1' b'-2' b'2']\n",
      "   /dimension : 55\n",
      "   /fullname : SP10\n",
      "   /name : C5\n",
      "   /rank : 5\n",
      "   /structureconstants\n",
      "      /k : [[ 0  1  5]\n",
      "            [ 0  5  1]\n",
      "            [ 0  6  9]\n",
      "            ...\n",
      "            [54 38 13]\n",
      "            [54 39 14]\n",
      "            [54 41 16]]\n",
      "      /s : [55 55 55]\n",
      "      /v : [b'-s(2)/4' b's(2)/4' b's(2)/4' ... b'-1/2' b'1/2' b'-1/2']\n",
      "\n",
      "SP12\n",
      "   /adjointrep : [2 0 0 0 0 0]\n",
      "   /cartanmatrix\n",
      "      /k : [[0 0]\n",
      "            [0 1]\n",
      "            [1 0]\n",
      "            ...\n",
      "            [4 5]\n",
      "            [5 4]\n",
      "            [5 5]]\n",
      "      /s : [6 6]\n",
      "      /v : [b'2' b'-1' b'-1' ... b'-1' b'-2' b'2']\n",
      "   /dimension : 78\n",
      "   /fullname : SP12\n",
      "   /name : C6\n",
      "   /rank : 6\n",
      "   /structureconstants\n",
      "      /k : [[ 0  1  6]\n",
      "            [ 0  6  1]\n",
      "            [ 0  7 11]\n",
      "            ...\n",
      "            [77 56 20]\n",
      "            [77 57 21]\n",
      "            [77 60 24]]\n",
      "      /s : [78 78 78]\n",
      "      /v : [b'-s(2)/4' b's(2)/4' b's(2)/4' ... b'1/2' b'-1/2' b'1/2']\n",
      "\n",
      "SP4\n",
      "   /adjointrep : [2 0]\n",
      "   /cartanmatrix\n",
      "      /k : [[0 0]\n",
      "            [0 1]\n",
      "            [1 0]\n",
      "            [1 1]]\n",
      "      /s : [2 2]\n",
      "      /v : [b'2' b'-1' b'-2' b'2']\n",
      "   /dimension : 10\n",
      "   /fullname : SP4\n",
      "   /name : C2\n",
      "   /rank : 2\n",
      "   /structureconstants\n",
      "      /k : [[0 1 2]\n",
      "            [0 2 1]\n",
      "            [0 2 3]\n",
      "            ...\n",
      "            [9 4 0]\n",
      "            [9 5 1]\n",
      "            [9 6 2]]\n",
      "      /s : [10 10 10]\n",
      "      /v : [b'-1/2' b'1/2' b'1/2' ... b'1/2' b'-1' b'1/2']\n",
      "\n",
      "SP6\n",
      "   /adjointrep : [2 0 0]\n",
      "   /cartanmatrix\n",
      "      /k : [[0 0]\n",
      "            [0 1]\n",
      "            [1 0]\n",
      "            ...\n",
      "            [1 2]\n",
      "            [2 1]\n",
      "            [2 2]]\n",
      "      /s : [3 3]\n",
      "      /v : [b'2' b'-1' b'-1' b'2' b'-1' b'-2' b'2']\n",
      "   /dimension : 21\n",
      "   /fullname : SP6\n",
      "   /name : C3\n",
      "   /rank : 3\n",
      "   /structureconstants\n",
      "      /k : [[ 0  1  3]\n",
      "            [ 0  3  1]\n",
      "            [ 0  4  5]\n",
      "            ...\n",
      "            [20 12  3]\n",
      "            [20 13  4]\n",
      "            [20 14  5]]\n",
      "      /s : [21 21 21]\n",
      "      /v : [b'-s(2)/4' b's(2)/4' b's(2)/4' ... b'-1/2' b'1/2' b'-1/2']\n",
      "\n",
      "SP8\n",
      "   /adjointrep : [2 0 0 0]\n",
      "   /cartanmatrix\n",
      "      /k : [[0 0]\n",
      "            [0 1]\n",
      "            [1 0]\n",
      "            ...\n",
      "            [2 3]\n",
      "            [3 2]\n",
      "            [3 3]]\n",
      "      /s : [4 4]\n",
      "      /v : [b'2' b'-1' b'-1' b'2' b'-1' b'-1' b'2' b'-1' b'-2' b'2']\n",
      "   /dimension : 36\n",
      "   /fullname : SP8\n",
      "   /name : C4\n",
      "   /rank : 4\n",
      "   /structureconstants\n",
      "      /k : [[ 0  1  4]\n",
      "            [ 0  4  1]\n",
      "            [ 0  5  7]\n",
      "            ...\n",
      "            [35 23  7]\n",
      "            [35 24  8]\n",
      "            [35 26 10]]\n",
      "      /s : [36 36 36]\n",
      "      /v : [b'-s(2)/4' b's(2)/4' b's(2)/4' ... b'1/2' b'-1/2' b'1/2']\n",
      "\n",
      "SU2\n",
      "   /adjointrep : [2]\n",
      "   /cartanmatrix\n",
      "      /k : [[0 0]]\n",
      "      /s : [1 1]\n",
      "      /v : [b'2']\n",
      "   /dimension : 3\n",
      "   /dimr\n",
      "      /(0,) : 1\n",
      "      /(1,) : 2\n",
      "   /dynkinindex\n",
      "      /(0,) : 0\n",
      "      /(1,) : b'1/2'\n",
      "   /dynkinlabels\n",
      "      /1 : [0]\n",
      "      /2 : [1]\n",
      "      /3 : [2]\n",
      "   /frobenius\n",
      "      /(0,) : 0\n",
      "      /(1,) : -1\n",
      "   /fullname : SU2\n",
      "   /invariants\n",
      "      /((1,),(1,));00;1;00\n",
      "      /((1,),(1,));01;1;00\n",
      "      /((2,),(2,));00;1;00\n",
      "      /((2,),(2,));00;1;11\n",
      "   /name : A1\n",
      "   /rank : 1\n",
      "   /repmatrices\n",
      "      /(0,);0;1\n",
      "      /(1,);0;0\n",
      "      /(1,);1;0\n",
      "      /(2,);0;0\n",
      "      /(2,);0;1\n",
      "   /structureconstants\n",
      "      /k : [[0 1 2]\n",
      "            [0 2 1]\n",
      "            [1 0 2]\n",
      "            [1 2 0]\n",
      "            [2 0 1]\n",
      "            [2 1 0]]\n",
      "      /s : [3 3 3]\n",
      "      /v : [b'1' b'-1' b'-1' b'1' b'1' b'-1']\n",
      "\n",
      "SU3\n",
      "   /adjointrep : [1 1]\n",
      "   /cartanmatrix\n",
      "      /k : [[0 0]\n",
      "            [0 1]\n",
      "            [1 0]\n",
      "            [1 1]]\n",
      "      /s : [2 2]\n",
      "      /v : [b'2' b'-1' b'-1' b'2']\n",
      "   /dimension : 8\n",
      "   /dimr\n",
      "      /(0,0) : 1\n",
      "      /(0,1) : 3\n",
      "      /(1,0) : 3\n",
      "   /dynkinindex\n",
      "      /(0,0) : 0\n",
      "      /(0,1) : b'1/2'\n",
      "      /(1,0) : b'1/2'\n",
      "   /dynkinlabels\n",
      "      /1 : [0 0]\n",
      "      /15 : [[2 1]\n",
      "             [4 0]]\n",
      "      /3 : [1 0]\n",
      "   /frobenius\n",
      "      /(0,0) : 0\n",
      "      /(0,1) : 1\n",
      "      /(1,0) : 1\n",
      "   /fullname : SU3\n",
      "   /invariants\n",
      "      /((0,1),(0,1),(1,0),(1,0));0000;1;0000\n",
      "      /((0,1),(1,0));00;1;00\n",
      "   /name : A2\n",
      "   /rank : 2\n",
      "   /repmatrices\n",
      "      /(0,0);0;1\n",
      "      /(0,1);0;0\n",
      "      /(1,0);0;0\n",
      "   /structureconstants\n",
      "      /k : [[0 1 2]\n",
      "            [0 2 1]\n",
      "            [0 3 6]\n",
      "            ...\n",
      "            [7 3 0]\n",
      "            [7 4 1]\n",
      "            [7 5 2]]\n",
      "      /s : [8 8 8]\n",
      "      /v : [b'-1/2' b'1/2' b's(3)/2' ... b'1/2' b'-1' b'1/2']\n",
      "\n",
      "SU4\n",
      "   /adjointrep : [1 0 1]\n",
      "   /cartanmatrix\n",
      "      /k : [[0 0]\n",
      "            [0 1]\n",
      "            [1 0]\n",
      "            ...\n",
      "            [1 2]\n",
      "            [2 1]\n",
      "            [2 2]]\n",
      "      /s : [3 3]\n",
      "      /v : [b'2' b'-1' b'-1' b'2' b'-1' b'-1' b'2']\n",
      "   /dimension : 15\n",
      "   /fullname : SU4\n",
      "   /name : A3\n",
      "   /rank : 3\n",
      "   /structureconstants\n",
      "      /k : [[ 0  1  3]\n",
      "            [ 0  3  1]\n",
      "            [ 0  4  5]\n",
      "            ...\n",
      "            [14  9  3]\n",
      "            [14 10  4]\n",
      "            [14 11  5]]\n",
      "      /s : [15 15 15]\n",
      "      /v : [b'-1/2' b'1/2' b'1/2' ... b'-1/2' b'1/2' b'-1/2']\n",
      "\n",
      "SU5\n",
      "   /adjointrep : [1 0 0 1]\n",
      "   /cartanmatrix\n",
      "      /k : [[0 0]\n",
      "            [0 1]\n",
      "            [1 0]\n",
      "            ...\n",
      "            [2 3]\n",
      "            [3 2]\n",
      "            [3 3]]\n",
      "      /s : [4 4]\n",
      "      /v : [b'2' b'-1' b'-1' b'2' b'-1' b'-1' b'2' b'-1' b'-1' b'2']\n",
      "   /dimension : 24\n",
      "   /dynkinlabels\n",
      "      /10 : [0 1 0 0]\n",
      "      /5 : [1 0 0 0]\n",
      "   /fullname : SU5\n",
      "   /invariants\n",
      "      /((0,1,0,0),(0,1,0,0),(1,0,0,0));000;1;000\n",
      "   /name : A4\n",
      "   /rank : 4\n",
      "   /structureconstants\n",
      "      /k : [[ 0  1  4]\n",
      "            [ 0  4  1]\n",
      "            [ 0  5  7]\n",
      "            ...\n",
      "            [23 17  7]\n",
      "            [23 18  8]\n",
      "            [23 19  9]]\n",
      "      /s : [24 24 24]\n",
      "      /v : [b'-1/2' b'1/2' b'1/2' ... b'1/2' b'-1/2' b'1/2']\n",
      "\n",
      "SU6\n",
      "   /adjointrep : [1 0 0 0 1]\n",
      "   /cartanmatrix\n",
      "      /k : [[0 0]\n",
      "            [0 1]\n",
      "            [1 0]\n",
      "            ...\n",
      "            [3 4]\n",
      "            [4 3]\n",
      "            [4 4]]\n",
      "      /s : [5 5]\n",
      "      /v : [b'2' b'-1' b'-1' ... b'-1' b'-1' b'2']\n",
      "   /dimension : 35\n",
      "   /fullname : SU6\n",
      "   /name : A5\n",
      "   /rank : 5\n",
      "   /structureconstants\n",
      "      /k : [[ 0  1  5]\n",
      "            [ 0  5  1]\n",
      "            [ 0  6  9]\n",
      "            ...\n",
      "            [34 27 12]\n",
      "            [34 28 13]\n",
      "            [34 29 14]]\n",
      "      /s : [35 35 35]\n",
      "      /v : [b'-1/2' b'1/2' b'1/2' ... b'-1/2' b'1/2' b'-1/2']\n",
      "\n",
      "SU7\n",
      "   /adjointrep : [1 0 0 0 0 1]\n",
      "   /cartanmatrix\n",
      "      /k : [[0 0]\n",
      "            [0 1]\n",
      "            [1 0]\n",
      "            ...\n",
      "            [4 5]\n",
      "            [5 4]\n",
      "            [5 5]]\n",
      "      /s : [6 6]\n",
      "      /v : [b'2' b'-1' b'-1' ... b'-1' b'-1' b'2']\n",
      "   /dimension : 48\n",
      "   /fullname : SU7\n",
      "   /name : A6\n",
      "   /rank : 6\n",
      "   /structureconstants\n",
      "      /k : [[ 0  1  6]\n",
      "            [ 0  6  1]\n",
      "            [ 0  7 11]\n",
      "            ...\n",
      "            [47 39 18]\n",
      "            [47 40 19]\n",
      "            [47 41 20]]\n",
      "      /s : [48 48 48]\n",
      "      /v : [b'-1/2' b'1/2' b'1/2' ... b'1/2' b'-1/2' b'1/2']\n",
      "\n",
      "SU8\n",
      "   /adjointrep : [1 0 0 0 0 0 1]\n",
      "   /cartanmatrix\n",
      "      /k : [[0 0]\n",
      "            [0 1]\n",
      "            [1 0]\n",
      "            ...\n",
      "            [5 6]\n",
      "            [6 5]\n",
      "            [6 6]]\n",
      "      /s : [7 7]\n",
      "      /v : [b'2' b'-1' b'-1' ... b'-1' b'-1' b'2']\n",
      "   /dimension : 63\n",
      "   /fullname : SU8\n",
      "   /name : A7\n",
      "   /rank : 7\n",
      "   /structureconstants\n",
      "      /k : [[ 0  1  7]\n",
      "            [ 0  7  1]\n",
      "            [ 0  8 13]\n",
      "            ...\n",
      "            [62 53 25]\n",
      "            [62 54 26]\n",
      "            [62 55 27]]\n",
      "      /s : [63 63 63]\n",
      "      /v : [b'-1/2' b'1/2' b'1/2' ... b'-1/2' b'1/2' b'-1/2']\n"
     ]
    }
   ],
   "source": [
    "db.visit(shorter=True)"
   ]
  },
  {
   "cell_type": "markdown",
   "metadata": {},
   "source": [
    "### [Optional] Load the database\n",
    "\n",
    "At this point, we may load the database using `db.load()`. If we skip this step, any request sent to the database will trigger the following operations :\n",
    "1. Uncompress the DB\n",
    "2. Load the DB\n",
    "3. Send the request / print the result\n",
    "4. Update the content of the DB\n",
    "4. Close the DB\n",
    "5. Compress the DB (using gzip)\n",
    "\n",
    "If the `PyLieDB` file is large, the above steps (in particular steps 1 and 6) will take quite some time. In such cases, the user should load the database once, and close it afterwards using `db.close()`. While the database is loaded, a lock will prevent any other program to access it. Therefore it is very important to close it in order to release this lock and allow PyR@TE 3 to access its content at a later time."
   ]
  },
  {
   "cell_type": "code",
   "execution_count": 4,
   "metadata": {},
   "outputs": [],
   "source": [
    "# Optional : load the database (uncomment if needed)\n",
    "\n",
    "# db.load()"
   ]
  },
  {
   "cell_type": "markdown",
   "metadata": {},
   "source": [
    "---"
   ]
  },
  {
   "cell_type": "code",
   "execution_count": 5,
   "metadata": {},
   "outputs": [
    {
     "name": "stdout",
     "output_type": "stream",
     "text": [
      "\n"
     ]
    }
   ],
   "source": [
    "# Load sympy's printing system in order to get good-looking output in the following\n",
    "from sympy import init_session\n",
    "\n",
    "init_session(quiet=True)"
   ]
  },
  {
   "cell_type": "markdown",
   "metadata": {},
   "source": [
    "---\n",
    "## Getting information from the DB "
   ]
  },
  {
   "cell_type": "markdown",
   "metadata": {},
   "source": [
    "### Some basic information"
   ]
  },
  {
   "cell_type": "markdown",
   "metadata": {},
   "source": [
    "Before discussing the CGCs, let us try and get some information about the gauge groups. Here and after, the standard way to ask the DB some information is to use the method `db.get(Group, Type of info, [Arguments, [Keyword arguments]])`. If the information is not already present in the DB, it will be automatically computed and stored."
   ]
  },
  {
   "cell_type": "code",
   "execution_count": 6,
   "metadata": {},
   "outputs": [
    {
     "name": "stdout",
     "output_type": "stream",
     "text": [
      "SU2 dimension :  3\n",
      "SO10 dimension:  45\n",
      "SU3 rank :  2\n",
      "SU5 adjoint representation : [1, 0, 0, 1]\n",
      "E8 dimension and rank :  248  ;  8\n",
      "G2 cartan matrix : Matrix([[2, -3], [-1, 2]])\n",
      "\n",
      "\n",
      "SU2 structure constants:\n",
      "[Matrix([\n",
      "[0,  0, 0],\n",
      "[0,  0, 1],\n",
      "[0, -1, 0]]), Matrix([\n",
      "[0, 0, -1],\n",
      "[0, 0,  0],\n",
      "[1, 0,  0]]), Matrix([\n",
      "[ 0, 1, 0],\n",
      "[-1, 0, 0],\n",
      "[ 0, 0, 0]])]\n"
     ]
    }
   ],
   "source": [
    "print('SU2 dimension : ', db.get('SU2', 'dimension'))\n",
    "print('SO10 dimension: ', db.get('SO10', 'dimension'))\n",
    "print('SU3 rank : ', db.get('SU3', 'rank'))\n",
    "print('SU5 adjoint representation :', db.get('SU5', 'adjoint'))\n",
    "print('E8 dimension and rank : ', db.get('E8', 'dimension'), ' ; ', db.get('E8', 'rank'))\n",
    "print('G2 cartan matrix :', db.get('G2', 'cartan'))\n",
    "\n",
    "print('\\n\\nSU2 structure constants:')\n",
    "print(db.get('SU2', 'structureConstants'))"
   ]
  },
  {
   "cell_type": "markdown",
   "metadata": {},
   "source": [
    "Here is a sumary of the commands used to get basic information about the Lie algebras :\n",
    "\n",
    "| Command | Description  |\n",
    "| ------- |-----------|\n",
    "| `'name'` | Name of the algebra (according to Cartan classification) |\n",
    "| `'rank'` | Rank of the algebra |\n",
    "| `'dimension'`, `'dim'` | Dimension of the algebra (i.e. of its adjoint representation) |\n",
    "| `'cartanMatrix'`, `'cartan'` | Cartan matrix of the algebra |\n",
    "| `'adjointRep'`, `'adjoint'` | Dynkin labels of the adjoint representation |\n",
    "| `'structureConstants'`, `'struct'` | Structure constants of the algebra |"
   ]
  },
  {
   "cell_type": "markdown",
   "metadata": {},
   "source": [
    "---\n",
    "### Representations and Dynkin labels"
   ]
  },
  {
   "cell_type": "markdown",
   "metadata": {},
   "source": [
    "In PyLie, the irredicible representations of the gauge groups are uniquely defined by their Dynkin labels. Various functions are implemented in PyLieDB that can help identify the Dynkin labels of a given representation."
   ]
  },
  {
   "cell_type": "markdown",
   "metadata": {},
   "source": [
    "##### 1. Identification of a representation by its dimension\n",
    "\n",
    "To identify the Dynkin labels of a representation based on its dimension, one can call `db.get([group], 'labels', [dimension])`. For instance:"
   ]
  },
  {
   "cell_type": "code",
   "execution_count": 7,
   "metadata": {},
   "outputs": [
    {
     "name": "stdout",
     "output_type": "stream",
     "text": [
      "[2]\n",
      "[0, 1, 0, 0]\n",
      "[0, 0, 0, 0, 2]  and  [0, 0, 0, 2, 0]\n"
     ]
    }
   ],
   "source": [
    "# Adjoint representation of SU(2)\n",
    "print( db.get('SU2', 'labels', 3) )\n",
    "\n",
    "# Representation 10 of SU(5)\n",
    "print( db.get('SU5', 'labels', 10) )\n",
    "\n",
    "# Representation 126 and 126* of SO(10)\n",
    "print( db.get('SO10', 'labels', 126) , \" and \", db.get('SO10', 'labels', -126) )"
   ]
  },
  {
   "cell_type": "markdown",
   "metadata": {},
   "source": [
    "If several representations have the same dimension, the output will be a list of Dynkin labels:"
   ]
  },
  {
   "cell_type": "code",
   "execution_count": 8,
   "metadata": {},
   "outputs": [
    {
     "data": {
      "image/png": "[encoded data removed]",
      "text/latex": [
       "$\\displaystyle \\left[ \\left[ 2, \\  1\\right], \\  \\left[ 4, \\  0\\right]\\right]$"
      ],
      "text/plain": [
       "[[2, 1], [4, 0]]"
      ]
     },
     "execution_count": 8,
     "metadata": {},
     "output_type": "execute_result"
    }
   ],
   "source": [
    "# 15-dimensional representations of SU(3)\n",
    "db.get('SU3', 'labels', 15)"
   ]
  },
  {
   "cell_type": "markdown",
   "metadata": {},
   "source": [
    "##### 2. Display the first representations of a given algebra\n",
    "\n",
    "To display the first few representation of a gauge group, one can call `db.get([group], 'firstReps', [N])` where `N` is a positive integer:"
   ]
  },
  {
   "cell_type": "code",
   "execution_count": 9,
   "metadata": {
    "scrolled": true
   },
   "outputs": [
    {
     "name": "stdout",
     "output_type": "stream",
     "text": [
      "-- First representations of SU4 --\n",
      "\n",
      "[1, 0, 0] : 4\n",
      "[0, 0, 1] : -4\n",
      "[0, 1, 0] : 6\n",
      "[0, 0, 2] : 10\n",
      "[2, 0, 0] : -10\n",
      "[1, 0, 1] : 15\n",
      "[0, 1, 1] : 20\n",
      "[1, 1, 0] : -20\n",
      "[0, 2, 0] : 20'\n",
      "[0, 0, 3] : 20''\n",
      "[3, 0, 0] : -20''\n"
     ]
    }
   ],
   "source": [
    "db.get('SU4', 'firstReps', 5)"
   ]
  },
  {
   "cell_type": "markdown",
   "metadata": {},
   "source": [
    "The output is in the form `[Dynkin labels] : name`, where `name` refers to the usual Particle Physics notation based on the dimension of the representation. Here we see that $\\mathit{SU}(4)$ contains three 20-dimensional representations, distinguished from one another adding one or more \"primes\" `'` to the dimension. We emphasize that a minus sign indicates a conjugate representation."
   ]
  },
  {
   "cell_type": "markdown",
   "metadata": {},
   "source": [
    "##### 3. The other way around : from Dynkin labels to dimension\n",
    "\n",
    "One can get the dimension of a given representation from its Dynkin labels using `db.get([group], 'dimR', [representation])` :"
   ]
  },
  {
   "cell_type": "code",
   "execution_count": 10,
   "metadata": {},
   "outputs": [
    {
     "data": {
      "image/png": "[encoded data removed]",
      "text/latex": [
       "$\\displaystyle 52$"
      ],
      "text/plain": [
       "52"
      ]
     },
     "execution_count": 10,
     "metadata": {},
     "output_type": "execute_result"
    }
   ],
   "source": [
    "db.get('F4', 'dimR', [1,0,0,0])"
   ]
  },
  {
   "cell_type": "markdown",
   "metadata": {},
   "source": [
    "More conveniently, its Particle Physics notation can be retrieved calling `db.get([group], 'repName', [representation], latex = True/False, iLatex=True/False)`. The `latex` keyword produces a Latex string, the `iLatex` displays this latex output in an interactive session like this one :"
   ]
  },
  {
   "cell_type": "code",
   "execution_count": 11,
   "metadata": {},
   "outputs": [
    {
     "data": {
      "image/png": "[encoded data removed]",
      "text/latex": [
       "$\\displaystyle \\left( \\overline{\\mathbf{15}^{'}}, \\  \\mathbf{24}\\right)$"
      ],
      "text/plain": [
       "(\\overline{\\mathbf{15}__{'}}, \\mathbf{24})"
      ]
     },
     "execution_count": 11,
     "metadata": {},
     "output_type": "execute_result"
    }
   ],
   "source": [
    "db.get('SU3', 'repName', [0,4], iLatex=True), db.get('SU5', 'repName', [1,0,0,1], iLatex=True)"
   ]
  },
  {
   "cell_type": "markdown",
   "metadata": {},
   "source": [
    "The following table summarizes the various commands that can be called to get information about the representations :\n",
    "\n",
    "| Command | Argument | Keyword Arguments | Description |\n",
    "| ------- |-----------|-------------------| -----------|\n",
    "| `'dynkinLabels'`, `'labels'` | Dimension of the representation | / | |\n",
    "| `'firstReps'` | A positive integer | / | |\n",
    "| `'dimR'` | Dynkin labels of a representation | / | |\n",
    "| `'repName'` | Dynkin labels of a representation | `latex=True/False`, `iLatex=True/False` | |\n",
    "| `'conjugate'` | Dynkin labels of a representation | / | Returns the conjugate representation |\n",
    "| `'frobenius'` | Dynkin labels of a representation | / | Returns the Frobenius-Schur indicator |\n",
    "| `'dynkinIndex'`, `'index'` | Dynkin labels of a representation | / | Returns the Dynkin index |\n"
   ]
  },
  {
   "cell_type": "markdown",
   "metadata": {},
   "source": [
    "The Frobenius-Schur indicator is an integer whose value depends on the \"reality\" of the representation. It may take the three following values :\n",
    "- $1$ if the representation is complex\n",
    "- $0$ if the representation is real\n",
    "- $-1$ if the representation is pseudo-real\n",
    "\n",
    "We note that for pseudo-real representation, the conjugate representation can be accessed in the Dynkin-labels notation appending `True` to the list. For instance, the $\\overline{\\mathbf{2}}$ of $\\mathit{SU}(2)$ is represented by `[1, True]`."
   ]
  },
  {
   "cell_type": "markdown",
   "metadata": {},
   "source": [
    "---\n",
    "Now that we have introduced the Dynkin-labels notation, we may call three additional commands to get useful information from the database."
   ]
  },
  {
   "cell_type": "markdown",
   "metadata": {},
   "source": [
    "### Products of representations"
   ]
  },
  {
   "cell_type": "markdown",
   "metadata": {},
   "source": [
    "The decomposition of products of representations in a direct sum may be obtained using the command `'repProduct'`, taking as argument a list of representations (in the Dynkin-labels notation). For instance:"
   ]
  },
  {
   "cell_type": "code",
   "execution_count": 12,
   "metadata": {},
   "outputs": [
    {
     "data": {
      "image/png": "[encoded data removed]",
      "text/latex": [
       "$\\displaystyle \\mathbf{8}\\oplus\\mathbf{1}$"
      ],
      "text/plain": [
       "\\mathbf{8}\\oplus\\mathbf{1}"
      ]
     },
     "execution_count": 12,
     "metadata": {},
     "output_type": "execute_result"
    }
   ],
   "source": [
    "db.get('SU3', 'repProduct', [[1,0], [0,1]], iLatex=True)"
   ]
  },
  {
   "cell_type": "markdown",
   "metadata": {},
   "source": [
    "Here, we used the `'iLatex'` keyword argument to get a nice looking output. The information we get is that, in $\\mathit{SU}(3)$,\n",
    "$$\n",
    "    \\mathbf{3} \\otimes \\mathbf{3} = \\mathbf{8}\\oplus\\mathbf{1}\\,.\n",
    "$$\n",
    "\n",
    "\n",
    "Another more complicated example would be the product $\\mathbf{16} \\otimes \\overline{\\mathbf{126}} \\otimes \\mathbf{16}$ of $\\mathit{SO}(10)$:"
   ]
  },
  {
   "cell_type": "code",
   "execution_count": 13,
   "metadata": {},
   "outputs": [
    {
     "data": {
      "image/png": "[encoded data removed]",
      "text/latex": [
       "$\\displaystyle \\mathbf{8910}\\oplus\\overline{\\mathbf{6930}}\\oplus\\mathbf{5940}\\oplus\\mathbf{5940}\\oplus\\overline{\\mathbf{1050}}\\oplus\\overline{\\mathbf{1050}}\\oplus\\mathbf{945}\\oplus\\mathbf{770}\\oplus\\mathbf{210}\\oplus\\mathbf{210}\\oplus\\mathbf{210}\\oplus\\mathbf{45}\\oplus\\mathbf{45}\\oplus\\mathbf{1}$"
      ],
      "text/plain": [
       "\\mathbf{8910}\\oplus\\overline{\\mathbf{6930}}\\oplus\\mathbf{5940}\\oplus\\mathbf{5940}\\oplus\\overline{\\mathbf{1050}}\\oplus\\overline{\\mathbf{1050}}\\oplus\\mathbf{945}\\oplus\\mathbf{770}\\oplus\\mathbf{210}\\oplus\\mathbf{210}\\oplus\\mathbf{210}\\oplus\\mathbf{45}\\oplus\\mathbf{45}\\oplus\\mathbf{1}"
      ]
     },
     "execution_count": 13,
     "metadata": {},
     "output_type": "execute_result"
    }
   ],
   "source": [
    "# Get the Dynkin labels of the 16 and 126* of SO10\n",
    "r16 = db.get('SO10', 'labels', 16)\n",
    "r126 = db.get('SO10', 'labels', -126)\n",
    "\n",
    "db.get('SO10', 'repProduct', [r16, r126, r16], iLatex=True)"
   ]
  },
  {
   "cell_type": "markdown",
   "metadata": {},
   "source": [
    "where the presence of the trivial representation indicates that we may construct a gauge singlet out of these three representations."
   ]
  },
  {
   "cell_type": "markdown",
   "metadata": {},
   "source": [
    "---\n",
    "### Gauge generators"
   ]
  },
  {
   "cell_type": "markdown",
   "metadata": {},
   "source": [
    "Another useful information is the expression of the generators of a given representation of a gauge group. We will refer to them as 'representation matrices'. The standard way to get representation matrices is to call `.get(Group, 'repMatrices', [representation])`. For instance, let us try to get the generators of the fundamental representations of $\\mathit{SU}(2)$ and $\\mathit{SU}(3)$:"
   ]
  },
  {
   "cell_type": "code",
   "execution_count": 14,
   "metadata": {},
   "outputs": [
    {
     "data": {
      "image/png": "[encoded data removed]",
      "text/latex": [
       "$\\displaystyle \\left[ \\left[\\begin{matrix}0 & \\frac{1}{2}\\\\\\frac{1}{2} & 0\\end{matrix}\\right], \\  \\left[\\begin{matrix}0 & - \\frac{i}{2}\\\\\\frac{i}{2} & 0\\end{matrix}\\right], \\  \\left[\\begin{matrix}\\frac{1}{2} & 0\\\\0 & - \\frac{1}{2}\\end{matrix}\\right]\\right]$"
      ],
      "text/plain": [
       "⎡            ⎡   -ⅈ ⎤             ⎤\n",
       "⎢            ⎢0  ───⎥             ⎥\n",
       "⎢⎡ 0   1/2⎤  ⎢    2 ⎥  ⎡1/2   0  ⎤⎥\n",
       "⎢⎢        ⎥, ⎢      ⎥, ⎢         ⎥⎥\n",
       "⎢⎣1/2   0 ⎦  ⎢ⅈ     ⎥  ⎣ 0   -1/2⎦⎥\n",
       "⎢            ⎢─   0 ⎥             ⎥\n",
       "⎣            ⎣2     ⎦             ⎦"
      ]
     },
     "execution_count": 14,
     "metadata": {},
     "output_type": "execute_result"
    }
   ],
   "source": [
    "db.get('SU2', 'repMatrices', [1]) # We expect the Pauli matrices to show up ..."
   ]
  },
  {
   "cell_type": "code",
   "execution_count": 15,
   "metadata": {},
   "outputs": [
    {
     "data": {
      "image/png": "[encoded data removed]",
      "text/latex": [
       "$\\displaystyle \\left[ \\left[\\begin{matrix}0 & \\frac{1}{2} & 0\\\\\\frac{1}{2} & 0 & 0\\\\0 & 0 & 0\\end{matrix}\\right], \\  \\left[\\begin{matrix}0 & 0 & 0\\\\0 & 0 & \\frac{1}{2}\\\\0 & \\frac{1}{2} & 0\\end{matrix}\\right], \\  \\left[\\begin{matrix}0 & 0 & \\frac{i}{2}\\\\0 & 0 & 0\\\\- \\frac{i}{2} & 0 & 0\\end{matrix}\\right], \\  \\left[\\begin{matrix}0 & - \\frac{i}{2} & 0\\\\\\frac{i}{2} & 0 & 0\\\\0 & 0 & 0\\end{matrix}\\right], \\  \\left[\\begin{matrix}0 & 0 & 0\\\\0 & 0 & - \\frac{i}{2}\\\\0 & \\frac{i}{2} & 0\\end{matrix}\\right], \\  \\left[\\begin{matrix}0 & 0 & - \\frac{1}{2}\\\\0 & 0 & 0\\\\- \\frac{1}{2} & 0 & 0\\end{matrix}\\right], \\  \\left[\\begin{matrix}\\frac{\\sqrt{3}}{3} & 0 & 0\\\\0 & - \\frac{\\sqrt{3}}{6} & 0\\\\0 & 0 & - \\frac{\\sqrt{3}}{6}\\end{matrix}\\right], \\  \\left[\\begin{matrix}0 & 0 & 0\\\\0 & \\frac{1}{2} & 0\\\\0 & 0 & - \\frac{1}{2}\\end{matrix}\\right]\\right]$"
      ],
      "text/plain": [
       "⎡                                                                                      ⎡√3            ⎤                ⎤\n",
       "⎢                              ⎡        ⅈ⎤  ⎡   -ⅈ    ⎤  ⎡0  0   0 ⎤                   ⎢──   0     0  ⎥                ⎥\n",
       "⎢                              ⎢ 0   0  ─⎥  ⎢0  ───  0⎥  ⎢         ⎥                   ⎢3             ⎥                ⎥\n",
       "⎢⎡ 0   1/2  0⎤  ⎡0   0    0 ⎤  ⎢        2⎥  ⎢    2    ⎥  ⎢      -ⅈ ⎥  ⎡ 0    0  -1/2⎤  ⎢              ⎥  ⎡0   0    0  ⎤⎥\n",
       "⎢⎢           ⎥  ⎢           ⎥  ⎢         ⎥  ⎢         ⎥  ⎢0  0  ───⎥  ⎢             ⎥  ⎢    -√3       ⎥  ⎢            ⎥⎥\n",
       "⎢⎢1/2   0   0⎥, ⎢0   0   1/2⎥, ⎢ 0   0  0⎥, ⎢ⅈ        ⎥, ⎢       2 ⎥, ⎢ 0    0   0  ⎥, ⎢0   ────   0  ⎥, ⎢0  1/2   0  ⎥⎥\n",
       "⎢⎢           ⎥  ⎢           ⎥  ⎢         ⎥  ⎢─   0   0⎥  ⎢         ⎥  ⎢             ⎥  ⎢     6        ⎥  ⎢            ⎥⎥\n",
       "⎢⎣ 0    0   0⎦  ⎣0  1/2   0 ⎦  ⎢-ⅈ       ⎥  ⎢2        ⎥  ⎢   ⅈ     ⎥  ⎣-1/2  0   0  ⎦  ⎢              ⎥  ⎣0   0   -1/2⎦⎥\n",
       "⎢                              ⎢───  0  0⎥  ⎢         ⎥  ⎢0  ─   0 ⎥                   ⎢          -√3 ⎥                ⎥\n",
       "⎢                              ⎣ 2       ⎦  ⎣0   0   0⎦  ⎣   2     ⎦                   ⎢0    0    ────⎥                ⎥\n",
       "⎣                                                                                      ⎣           6  ⎦                ⎦"
      ]
     },
     "execution_count": 15,
     "metadata": {},
     "output_type": "execute_result"
    }
   ],
   "source": [
    "db.get('SU3', 'repMatrices', [1,0]) # We expect the Gell-Mann matrices to show up ..."
   ]
  },
  {
   "cell_type": "markdown",
   "metadata": {},
   "source": [
    "The Pauli matrices did show up in the first case, but the second output does not exactly match the usual expression for the Gell-Mann matrices (altough it looks similar). This brings us to an important remark :\n",
    "\n",
    "**The explicit form of the generators of a representation is not uniquely defined. For a given representation, there exists infinitely many sets of gauge generators satisfying the commutation relations of the Lie algebra. Some quantities, such as the CGCs, depend in general on the choice of generators.**"
   ]
  },
  {
   "cell_type": "markdown",
   "metadata": {},
   "source": [
    "#### A subtelty : real representations"
   ]
  },
  {
   "cell_type": "markdown",
   "metadata": {},
   "source": [
    "By default, generators of real representations are not imaginary and antisymmetric. For instance, the generators of the adjoint representation of $\\mathit{SU}(2)$ are:"
   ]
  },
  {
   "cell_type": "code",
   "execution_count": 16,
   "metadata": {},
   "outputs": [
    {
     "data": {
      "image/png": "[encoded data removed]",
      "text/latex": [
       "$\\displaystyle \\left[ \\left[\\begin{matrix}0 & \\frac{\\sqrt{2}}{2} & 0\\\\\\frac{\\sqrt{2}}{2} & 0 & \\frac{\\sqrt{2}}{2}\\\\0 & \\frac{\\sqrt{2}}{2} & 0\\end{matrix}\\right], \\  \\left[\\begin{matrix}0 & - \\frac{\\sqrt{2} i}{2} & 0\\\\\\frac{\\sqrt{2} i}{2} & 0 & - \\frac{\\sqrt{2} i}{2}\\\\0 & \\frac{\\sqrt{2} i}{2} & 0\\end{matrix}\\right], \\  \\left[\\begin{matrix}1 & 0 & 0\\\\0 & 0 & 0\\\\0 & 0 & -1\\end{matrix}\\right]\\right]$"
      ],
      "text/plain": [
       "⎡⎡    √2    ⎤  ⎡      -√2⋅ⅈ         ⎤            ⎤\n",
       "⎢⎢0   ──  0 ⎥  ⎢ 0    ──────    0   ⎥            ⎥\n",
       "⎢⎢    2     ⎥  ⎢        2           ⎥            ⎥\n",
       "⎢⎢          ⎥  ⎢                    ⎥  ⎡1  0  0 ⎤⎥\n",
       "⎢⎢√2      √2⎥  ⎢√2⋅ⅈ          -√2⋅ⅈ ⎥  ⎢        ⎥⎥\n",
       "⎢⎢──  0   ──⎥, ⎢────    0     ──────⎥, ⎢0  0  0 ⎥⎥\n",
       "⎢⎢2       2 ⎥  ⎢ 2              2   ⎥  ⎢        ⎥⎥\n",
       "⎢⎢          ⎥  ⎢                    ⎥  ⎣0  0  -1⎦⎥\n",
       "⎢⎢    √2    ⎥  ⎢       √2⋅ⅈ         ⎥            ⎥\n",
       "⎢⎢0   ──  0 ⎥  ⎢ 0     ────     0   ⎥            ⎥\n",
       "⎣⎣    2     ⎦  ⎣        2           ⎦            ⎦"
      ]
     },
     "execution_count": 16,
     "metadata": {},
     "output_type": "execute_result"
    }
   ],
   "source": [
    "db.get('SU2', 'repMatrices', [2])"
   ]
  },
  {
   "cell_type": "markdown",
   "metadata": {},
   "source": [
    "This can be an issue in some cases where the generators must be expressed in a real basis in order to guarantee gauge invariance at the level of the Lagrangian. An option, `realBasis`, was implemented in PyLie that can be used to rotate the generators to such a basis:"
   ]
  },
  {
   "cell_type": "code",
   "execution_count": 17,
   "metadata": {},
   "outputs": [
    {
     "data": {
      "image/png": "[encoded data removed]",
      "text/latex": [
       "$\\displaystyle \\left[ \\left[\\begin{matrix}0 & 0 & 0\\\\0 & 0 & - i\\\\0 & i & 0\\end{matrix}\\right], \\  \\left[\\begin{matrix}0 & 0 & i\\\\0 & 0 & 0\\\\- i & 0 & 0\\end{matrix}\\right], \\  \\left[\\begin{matrix}0 & - i & 0\\\\i & 0 & 0\\\\0 & 0 & 0\\end{matrix}\\right]\\right]$"
      ],
      "text/plain": [
       "⎡⎡0  0  0 ⎤  ⎡0   0  ⅈ⎤  ⎡0  -ⅈ  0⎤⎤\n",
       "⎢⎢        ⎥  ⎢        ⎥  ⎢        ⎥⎥\n",
       "⎢⎢0  0  -ⅈ⎥, ⎢0   0  0⎥, ⎢ⅈ  0   0⎥⎥\n",
       "⎢⎢        ⎥  ⎢        ⎥  ⎢        ⎥⎥\n",
       "⎣⎣0  ⅈ  0 ⎦  ⎣-ⅈ  0  0⎦  ⎣0  0   0⎦⎦"
      ]
     },
     "execution_count": 17,
     "metadata": {},
     "output_type": "execute_result"
    }
   ],
   "source": [
    "db.get('SU2', 'repMatrices', [2], realBasis = True)"
   ]
  },
  {
   "cell_type": "markdown",
   "metadata": {},
   "source": [
    "For adjoint representations, the \"rotated\" generators thus obtained are also required to satisfy the relation\n",
    "$$\n",
    "    (T_a)^i_j = -i\\,f_{a\\ j}^{\\ i}\\,.\n",
    "$$\n",
    "In our case, we can check this easily:"
   ]
  },
  {
   "cell_type": "code",
   "execution_count": 18,
   "metadata": {},
   "outputs": [
    {
     "data": {
      "image/png": "[encoded data removed]",
      "text/latex": [
       "$\\displaystyle \\left[ \\left[\\begin{matrix}0 & 0 & 0\\\\0 & 0 & 1\\\\0 & -1 & 0\\end{matrix}\\right], \\  \\left[\\begin{matrix}0 & 0 & -1\\\\0 & 0 & 0\\\\1 & 0 & 0\\end{matrix}\\right], \\  \\left[\\begin{matrix}0 & 1 & 0\\\\-1 & 0 & 0\\\\0 & 0 & 0\\end{matrix}\\right]\\right]$"
      ],
      "text/plain": [
       "⎡⎡0  0   0⎤  ⎡0  0  -1⎤  ⎡0   1  0⎤⎤\n",
       "⎢⎢        ⎥  ⎢        ⎥  ⎢        ⎥⎥\n",
       "⎢⎢0  0   1⎥, ⎢0  0  0 ⎥, ⎢-1  0  0⎥⎥\n",
       "⎢⎢        ⎥  ⎢        ⎥  ⎢        ⎥⎥\n",
       "⎣⎣0  -1  0⎦  ⎣1  0  0 ⎦  ⎣0   0  0⎦⎦"
      ]
     },
     "execution_count": 18,
     "metadata": {},
     "output_type": "execute_result"
    }
   ],
   "source": [
    "db.get('SU2', 'structureConstants')"
   ]
  },
  {
   "cell_type": "markdown",
   "metadata": {},
   "source": [
    "---\n",
    "### Clebsch-Gordan coefficients"
   ]
  },
  {
   "cell_type": "markdown",
   "metadata": {},
   "source": [
    "We finally arrive to the computation of CGCs, which, as stated before, may be useful in some cases to construct the model file. The standard way of computing CGCs is to call `db.get([group], 'cgcs', [list of representations], [options])`.\n",
    "\n",
    "To begin with a simple example, let us contract two fields transforming respectively in the $\\mathbf{3}$ and $\\overline{\\mathbf{3}}$ of $\\mathit{SU}(3)$ :"
   ]
  },
  {
   "cell_type": "code",
   "execution_count": 19,
   "metadata": {},
   "outputs": [
    {
     "data": {
      "text/plain": [
       "[a[1]*b[1] + a[2]*b[2] + a[3]*b[3]]"
      ]
     },
     "execution_count": 19,
     "metadata": {},
     "output_type": "execute_result"
    }
   ],
   "source": [
    "db.get('SU3', 'cgcs', [[1,0], [0,1]])"
   ]
  },
  {
   "cell_type": "markdown",
   "metadata": {},
   "source": [
    "The output is a list containing the various invariants that can be formed out of the input representations. Here, the list contains a single element, meaning that there is only one way to contract the two fields. As expected, the two fields `a` and `b` may only be contracted as $a^i b_i$.\n",
    "\n",
    "If we now consider the four representations $\\mathbf{3}$, $\\overline{\\mathbf{3}}$, $\\mathbf{3}$ and $\\overline{\\mathbf{3}}$, we get two possible invariant combinations:"
   ]
  },
  {
   "cell_type": "code",
   "execution_count": 20,
   "metadata": {},
   "outputs": [
    {
     "data": {
      "text/plain": [
       "[a[1]*b[1]*c[1]*d[1] + a[1]*b[1]*c[2]*d[2]/2 + a[1]*b[1]*c[3]*d[3]/2 + a[1]*b[2]*c[2]*d[1]/2 + a[1]*b[3]*c[3]*d[1]/2 + a[2]*b[1]*c[1]*d[2]/2 + a[2]*b[2]*c[1]*d[1]/2 + a[2]*b[2]*c[2]*d[2] + a[2]*b[2]*c[3]*d[3]/2 + a[2]*b[3]*c[3]*d[2]/2 + a[3]*b[1]*c[1]*d[3]/2 + a[3]*b[2]*c[2]*d[3]/2 + a[3]*b[3]*c[1]*d[1]/2 + a[3]*b[3]*c[2]*d[2]/2 + a[3]*b[3]*c[3]*d[3],\n",
       " a[1]*b[1]*c[2]*d[2] + a[1]*b[1]*c[3]*d[3] - a[1]*b[2]*c[2]*d[1] - a[1]*b[3]*c[3]*d[1] - a[2]*b[1]*c[1]*d[2] + a[2]*b[2]*c[1]*d[1] + a[2]*b[2]*c[3]*d[3] - a[2]*b[3]*c[3]*d[2] - a[3]*b[1]*c[1]*d[3] - a[3]*b[2]*c[2]*d[3] + a[3]*b[3]*c[1]*d[1] + a[3]*b[3]*c[2]*d[2]]"
      ]
     },
     "execution_count": 20,
     "metadata": {},
     "output_type": "execute_result"
    }
   ],
   "source": [
    "db.get('SU3', 'cgcs', [[1,0], [0,1], [1,0], [0,1]])"
   ]
  },
  {
   "cell_type": "markdown",
   "metadata": {},
   "source": [
    "Suppose now that we want to use the above CGCs to compute the contractions $F\\times G \\times F \\times G$ where $F$ and $G$ are two fields transforming respectively under $\\mathbf{3}$ and $\\overline{\\mathbf{3}}$ of $\\mathit{SU}(3)$. We would need to apply the following substitutions : \n",
    "$$\n",
    "    a \\rightarrow F \\,,\\\\\n",
    "    b \\rightarrow G \\,,\\\\\n",
    "    c \\rightarrow F \\,,\\\\\n",
    "    d \\rightarrow G \\,.\n",
    "$$\n",
    "To this purpose, the option `fields` may be used to indicate the name of the fields which must be substituted in place of `a`, `b`, `c` and `d`:"
   ]
  },
  {
   "cell_type": "code",
   "execution_count": 21,
   "metadata": {},
   "outputs": [
    {
     "data": {
      "image/png": "[encoded data removed]",
      "text/latex": [
       "$\\displaystyle \\left[ {F}_{1}^{2} {G}_{1}^{2} + 2 {F}_{1} {F}_{2} {G}_{1} {G}_{2} + 2 {F}_{1} {F}_{3} {G}_{1} {G}_{3} + {F}_{2}^{2} {G}_{2}^{2} + 2 {F}_{2} {F}_{3} {G}_{2} {G}_{3} + {F}_{3}^{2} {G}_{3}^{2}, \\  0\\right]$"
      ],
      "text/plain": [
       "⎡    2     2                                                       2     2                               2     2   ⎤\n",
       "⎣F[1] ⋅G[1]  + 2⋅F[1]⋅F[2]⋅G[1]⋅G[2] + 2⋅F[1]⋅F[3]⋅G[1]⋅G[3] + F[2] ⋅G[2]  + 2⋅F[2]⋅F[3]⋅G[2]⋅G[3] + F[3] ⋅G[3] , 0⎦"
      ]
     },
     "execution_count": 21,
     "metadata": {},
     "output_type": "execute_result"
    }
   ],
   "source": [
    "db.get('SU3', 'cgcs', [[1,0], [0,1], [1,0], [0,1]], fields=['F', 'G', 'F', 'G'])"
   ]
  },
  {
   "cell_type": "markdown",
   "metadata": {},
   "source": [
    "After the substitution, we see that only one non-vanishing invariant is left. This is a consequence of the transformation properties of the various invariants under the permutation group. In this case, the second invariant was in fact antisymmetric under the permutations $a \\leftrightarrow c$ and $b \\leftrightarrow d$."
   ]
  },
  {
   "cell_type": "markdown",
   "metadata": {},
   "source": [
    "We end up this discussion with some additional examples :"
   ]
  },
  {
   "cell_type": "code",
   "execution_count": 22,
   "metadata": {},
   "outputs": [
    {
     "data": {
      "text/plain": [
       "[a[1]*b[1] + a[2]*b[2]]"
      ]
     },
     "execution_count": 22,
     "metadata": {},
     "output_type": "execute_result"
    }
   ],
   "source": [
    "# 2x2* of SU2\n",
    "db.get('SU2', 'cgcs', [[1], [1, True]])"
   ]
  },
  {
   "cell_type": "code",
   "execution_count": 23,
   "metadata": {},
   "outputs": [
    {
     "data": {
      "text/plain": [
       "[a[1]*b[2] - a[2]*b[1]]"
      ]
     },
     "execution_count": 23,
     "metadata": {},
     "output_type": "execute_result"
    }
   ],
   "source": [
    "# 2x2 of SU2\n",
    "db.get('SU2', 'cgcs', [[1], [1]])"
   ]
  },
  {
   "cell_type": "code",
   "execution_count": 24,
   "metadata": {},
   "outputs": [
    {
     "data": {
      "text/plain": [
       "[a[1]*b[3] - a[2]*b[2] + a[3]*b[1]]"
      ]
     },
     "execution_count": 24,
     "metadata": {},
     "output_type": "execute_result"
    }
   ],
   "source": [
    "# 3x3 of SU2  --  when the generators -are not- rotated to the real basis\n",
    "db.get('SU2', 'cgcs', [[2], [2]])"
   ]
  },
  {
   "cell_type": "code",
   "execution_count": 25,
   "metadata": {},
   "outputs": [
    {
     "data": {
      "text/plain": [
       "[a[1]*b[1] + a[2]*b[2] + a[3]*b[3]]"
      ]
     },
     "execution_count": 25,
     "metadata": {},
     "output_type": "execute_result"
    }
   ],
   "source": [
    "# 3x3 of SU2  --  when the generators -are- rotated to the real basis\n",
    "db.get('SU2', 'cgcs', [[2], [2]], realBasis=True)"
   ]
  },
  {
   "cell_type": "code",
   "execution_count": 26,
   "metadata": {
    "scrolled": true
   },
   "outputs": [
    {
     "data": {
      "text/plain": [
       "[a[10]*b[1]*c[5] - a[10]*b[2]*c[2] + a[10]*b[3]*c[1] + a[1]*b[3]*c[10] - a[1]*b[4]*c[9] + a[1]*b[5]*c[8] - a[2]*b[2]*c[10] + a[2]*b[4]*c[7] - a[2]*b[5]*c[6] + a[3]*b[2]*c[9] - a[3]*b[3]*c[7] + a[3]*b[5]*c[5] - a[4]*b[2]*c[8] + a[4]*b[3]*c[6] - a[4]*b[4]*c[5] + a[5]*b[1]*c[10] - a[5]*b[4]*c[4] + a[5]*b[5]*c[3] - a[6]*b[1]*c[9] + a[6]*b[3]*c[4] - a[6]*b[5]*c[2] + a[7]*b[1]*c[8] - a[7]*b[3]*c[3] + a[7]*b[4]*c[2] + a[8]*b[1]*c[7] - a[8]*b[2]*c[4] + a[8]*b[5]*c[1] - a[9]*b[1]*c[6] + a[9]*b[2]*c[3] - a[9]*b[4]*c[1]]"
      ]
     },
     "execution_count": 26,
     "metadata": {},
     "output_type": "execute_result"
    }
   ],
   "source": [
    "# 10*5*10 of SU5\n",
    "r10 = db.get('SU5', 'labels', 10)\n",
    "r5 = db.get('SU5', 'labels', 5)\n",
    "\n",
    "db.get('SU5', 'cgcs', [r10, r5, r10])"
   ]
  },
  {
   "cell_type": "code",
   "execution_count": 27,
   "metadata": {},
   "outputs": [],
   "source": [
    "# If the database was loaded earlier using db.load(), we must close it now.\n",
    "\n",
    "# db.close()"
   ]
  }
 ],
 "metadata": {
  "kernelspec": {
   "display_name": "Python [conda env:Py3] *",
   "language": "python",
   "name": "conda-env-Py3-py"
  },
  "language_info": {
   "codemirror_mode": {
    "name": "ipython",
    "version": 3
   },
   "file_extension": ".py",
   "mimetype": "text/x-python",
   "name": "python",
   "nbconvert_exporter": "python",
   "pygments_lexer": "ipython3",
   "version": "3.6.10"
  }
 },
 "nbformat": 4,
 "nbformat_minor": 4
}
